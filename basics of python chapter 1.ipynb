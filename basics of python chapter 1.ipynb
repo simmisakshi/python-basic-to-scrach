{
 "cells": [
  {
   "cell_type": "code",
   "execution_count": 2,
   "id": "684a5dc4-78a6-4cb8-afa8-8d6441fb8078",
   "metadata": {},
   "outputs": [
    {
     "name": "stdout",
     "output_type": "stream",
     "text": [
      "hello world\n"
     ]
    }
   ],
   "source": [
    "print (\"hello world\")"
   ]
  },
  {
   "cell_type": "code",
   "execution_count": 4,
   "id": "ef43407d-46db-4dff-944b-017324974109",
   "metadata": {},
   "outputs": [],
   "source": [
    "import os"
   ]
  },
  {
   "cell_type": "code",
   "execution_count": 5,
   "id": "e399ec53-ea9c-4900-9faa-fbd9ae332d8b",
   "metadata": {},
   "outputs": [
    {
     "ename": "ModuleNotFoundError",
     "evalue": "No module named 'flask'",
     "output_type": "error",
     "traceback": [
      "\u001b[0;31m---------------------------------------------------------------------------\u001b[0m",
      "\u001b[0;31mModuleNotFoundError\u001b[0m                       Traceback (most recent call last)",
      "Cell \u001b[0;32mIn[5], line 1\u001b[0m\n\u001b[0;32m----> 1\u001b[0m \u001b[38;5;28;01mimport\u001b[39;00m \u001b[38;5;21;01mflask\u001b[39;00m\n",
      "\u001b[0;31mModuleNotFoundError\u001b[0m: No module named 'flask'"
     ]
    }
   ],
   "source": [
    "import flask"
   ]
  },
  {
   "cell_type": "markdown",
   "id": "469e1195-234f-47b0-bb30-de3d26c49ec7",
   "metadata": {},
   "source": [
    "### write a program to write a \" twinkle twinkle little star\""
   ]
  },
  {
   "cell_type": "code",
   "execution_count": 6,
   "id": "44bc1a17-feff-4910-93f9-99b22ef2c81b",
   "metadata": {},
   "outputs": [
    {
     "name": "stdout",
     "output_type": "stream",
     "text": [
      "twinkle twinkle little star.\n",
      "How I wonder what you are.\n",
      "Up above the world so high.\n",
      "Like a diamond in the sky.\n",
      "Twinkle twinkle little star.\n",
      "How I wonder what you are.\n"
     ]
    }
   ],
   "source": [
    "print('''twinkle twinkle little star.\n",
    "How I wonder what you are.\n",
    "Up above the world so high.\n",
    "Like a diamond in the sky.\n",
    "Twinkle twinkle little star.\n",
    "How I wonder what you are.''')"
   ]
  },
  {
   "cell_type": "code",
   "execution_count": 8,
   "id": "9efbedb6-5e8b-4aa6-a097-41f2719c3c57",
   "metadata": {},
   "outputs": [
    {
     "name": "stdout",
     "output_type": "stream",
     "text": [
      "['.ipynb_checkpoints', 'sample-code.ipynb', '.git', 'basics of python chapter 1.ipynb', 'README.md']\n"
     ]
    }
   ],
   "source": [
    "import os\n",
    "print(os.listdir())"
   ]
  }
 ],
 "metadata": {
  "kernelspec": {
   "display_name": "Python 3 (ipykernel)",
   "language": "python",
   "name": "python3"
  },
  "language_info": {
   "codemirror_mode": {
    "name": "ipython",
    "version": 3
   },
   "file_extension": ".py",
   "mimetype": "text/x-python",
   "name": "python",
   "nbconvert_exporter": "python",
   "pygments_lexer": "ipython3",
   "version": "3.10.8"
  }
 },
 "nbformat": 4,
 "nbformat_minor": 5
}
