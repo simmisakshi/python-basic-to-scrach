{
 "cells": [
  {
   "cell_type": "markdown",
   "id": "1fc80ef1-39a7-45ed-bf9b-bbc3ff66d2b6",
   "metadata": {},
   "source": [
    "# chapter 5 "
   ]
  },
  {
   "cell_type": "markdown",
   "id": "7c2531d0-1904-42f0-888c-dd0175a0438b",
   "metadata": {},
   "source": [
    "### Dictionary and sets "
   ]
  },
  {
   "cell_type": "markdown",
   "id": "1c02c0fb-d63c-4359-877c-9e2178ef58e1",
   "metadata": {},
   "source": [
    " ##### dictionary is a collection of key value pairs "
   ]
  },
  {
   "cell_type": "code",
   "execution_count": null,
   "id": "51652a88-a6d1-47cb-b344-2561cdc1a528",
   "metadata": {},
   "outputs": [],
   "source": []
  },
  {
   "cell_type": "markdown",
   "id": "2d17925e-10f7-4571-9a03-67a6e81eb650",
   "metadata": {},
   "source": [
    "### syntax { \" key\": \"value\"}"
   ]
  },
  {
   "cell_type": "code",
   "execution_count": 37,
   "id": "3ddf30c2-8d5a-416b-afc4-e886b274a385",
   "metadata": {},
   "outputs": [
    {
     "name": "stdout",
     "output_type": "stream",
     "text": [
      "in a quick manner\n"
     ]
    }
   ],
   "source": [
    "mydict={\n",
    "        \"fast\": \"in a quick manner\",\n",
    "        \"sakshi\": \"a simple girl\",\n",
    "        \"marks\": \"34,67,45,67\",\n",
    "        \"anotherdict\": {\"sakshi\": \"a coder\"}\n",
    "\n",
    "}\n",
    "print(mydict[\"fast\"])"
   ]
  },
  {
   "cell_type": "code",
   "execution_count": 25,
   "id": "86efa59a-cbd8-44f7-a043-0307112178c2",
   "metadata": {},
   "outputs": [
    {
     "name": "stdout",
     "output_type": "stream",
     "text": [
      "a simple girl\n"
     ]
    }
   ],
   "source": [
    "print(mydict[\"sakshi\"])"
   ]
  },
  {
   "cell_type": "code",
   "execution_count": 26,
   "id": "1d689347-6e13-42f3-b0ef-d885de6964d7",
   "metadata": {},
   "outputs": [
    {
     "name": "stdout",
     "output_type": "stream",
     "text": [
      "34,67,45,67\n"
     ]
    }
   ],
   "source": [
    "print(mydict[\"marks\"])"
   ]
  },
  {
   "cell_type": "markdown",
   "id": "58eb51a4-afdc-4c36-b15e-8347b0234694",
   "metadata": {},
   "source": [
    "### we can put another dictionary in a dictionary \n",
    "## nested dictionary"
   ]
  },
  {
   "cell_type": "code",
   "execution_count": 30,
   "id": "9e6b6cd4-7a69-4c95-91cd-ab2dcdfedb81",
   "metadata": {},
   "outputs": [
    {
     "name": "stdout",
     "output_type": "stream",
     "text": [
      "{'sakshi': 'a coder'}\n"
     ]
    }
   ],
   "source": [
    "print(mydict[\"anotherdict\"])"
   ]
  },
  {
   "cell_type": "code",
   "execution_count": 31,
   "id": "d2bf2160-8b3c-45d9-81cf-6673bd83eb83",
   "metadata": {},
   "outputs": [
    {
     "name": "stdout",
     "output_type": "stream",
     "text": [
      "a coder\n"
     ]
    }
   ],
   "source": [
    "print(mydict[\"anotherdict\"][\"sakshi\"])"
   ]
  },
  {
   "cell_type": "markdown",
   "id": "8d20137e-4ddf-41a2-9b0d-778a1997500e",
   "metadata": {},
   "source": [
    "### dictionary is unorderd, mutable , indexed,cannot contain duplicate value"
   ]
  },
  {
   "cell_type": "code",
   "execution_count": 33,
   "id": "df2cea08-5c76-4e97-9335-a7a7bf7c2448",
   "metadata": {},
   "outputs": [
    {
     "name": "stdout",
     "output_type": "stream",
     "text": [
      "[78, 56, 45]\n"
     ]
    }
   ],
   "source": [
    "mydict[\"marks\"]=[78,56,45,]\n",
    "print(mydict[\"marks\"])"
   ]
  },
  {
   "cell_type": "markdown",
   "id": "5f4eb555-a50f-46d9-abaf-4a27b2d48b62",
   "metadata": {},
   "source": [
    "### dictipnary methods\n",
    "### keys\n",
    "###### prints the keys of the dictionary"
   ]
  },
  {
   "cell_type": "code",
   "execution_count": null,
   "id": "761061d3-31c5-4399-83bb-4fef47fd5e36",
   "metadata": {},
   "outputs": [],
   "source": [
    "mydict={\n",
    "        \"fast\": \"in a quick manner\",\n",
    "        \"sakshi\": \"a simple girl\",\n",
    "        \"marks\": \"34,67,45,67\",\n",
    "        \"anotherdict\": {\"sakshi\": \"a coder\"}\n",
    "\n",
    "}\n",
    "print(mydict[\"fast\"])"
   ]
  },
  {
   "cell_type": "code",
   "execution_count": 40,
   "id": "9aa30fe6-14a0-4317-9d8c-3c6901ccd4c9",
   "metadata": {},
   "outputs": [
    {
     "name": "stdout",
     "output_type": "stream",
     "text": [
      "dict_keys(['fast', 'sakshi', 'marks', 'anotherdict'])\n"
     ]
    }
   ],
   "source": [
    "print(mydict.keys())"
   ]
  },
  {
   "cell_type": "code",
   "execution_count": 41,
   "id": "4477ddc0-5225-4928-afc6-d7fba66d6dca",
   "metadata": {},
   "outputs": [
    {
     "name": "stdout",
     "output_type": "stream",
     "text": [
      "<class 'dict_keys'>\n"
     ]
    }
   ],
   "source": [
    "print(type(mydict.keys()))"
   ]
  },
  {
   "cell_type": "code",
   "execution_count": 42,
   "id": "4a40bcbe-9e3e-4b77-82ed-702d51c0d752",
   "metadata": {},
   "outputs": [
    {
     "name": "stdout",
     "output_type": "stream",
     "text": [
      "['fast', 'sakshi', 'marks', 'anotherdict']\n"
     ]
    }
   ],
   "source": [
    "print(list(mydict.keys()))"
   ]
  },
  {
   "cell_type": "markdown",
   "id": "51b4f272-0693-4b1c-bbd7-d1d6c54d335b",
   "metadata": {},
   "source": [
    "## values\n",
    "##### prints the valueof the dictionary"
   ]
  },
  {
   "cell_type": "code",
   "execution_count": 43,
   "id": "90600a5d-6bea-4383-bf06-8538781126f9",
   "metadata": {},
   "outputs": [
    {
     "name": "stdout",
     "output_type": "stream",
     "text": [
      "dict_values(['in a quick manner', 'a simple girl', '34,67,45,67', {'sakshi': 'a coder'}])\n"
     ]
    }
   ],
   "source": [
    "print(mydict.values())"
   ]
  },
  {
   "cell_type": "code",
   "execution_count": 44,
   "id": "47a9ea81-ce87-4eb8-b979-909880dedec0",
   "metadata": {},
   "outputs": [
    {
     "name": "stdout",
     "output_type": "stream",
     "text": [
      "<class 'dict_values'>\n"
     ]
    }
   ],
   "source": [
    "print(type(mydict.values()))"
   ]
  },
  {
   "cell_type": "code",
   "execution_count": 45,
   "id": "7ab8ac24-9be0-42e4-a3a0-df04e46ca237",
   "metadata": {},
   "outputs": [
    {
     "name": "stdout",
     "output_type": "stream",
     "text": [
      "['in a quick manner', 'a simple girl', '34,67,45,67', {'sakshi': 'a coder'}]\n"
     ]
    }
   ],
   "source": [
    "print(list(mydict.values()))"
   ]
  },
  {
   "cell_type": "markdown",
   "id": "06416b05-a0d0-40d7-9611-e552b231b8af",
   "metadata": {},
   "source": [
    "# items\n",
    "##### items return the tuple\n",
    "#### print the key, value for all contents of the dictionary"
   ]
  },
  {
   "cell_type": "code",
   "execution_count": 46,
   "id": "9fe64d7e-60d1-4e54-beae-f3c405a9fa3b",
   "metadata": {},
   "outputs": [
    {
     "name": "stdout",
     "output_type": "stream",
     "text": [
      "dict_items([('fast', 'in a quick manner'), ('sakshi', 'a simple girl'), ('marks', '34,67,45,67'), ('anotherdict', {'sakshi': 'a coder'})])\n"
     ]
    }
   ],
   "source": [
    "print(mydict.items())"
   ]
  },
  {
   "cell_type": "code",
   "execution_count": 47,
   "id": "88ec7e5e-c727-4f78-a6f0-90c631dd351c",
   "metadata": {},
   "outputs": [
    {
     "name": "stdout",
     "output_type": "stream",
     "text": [
      "<class 'dict_items'>\n"
     ]
    }
   ],
   "source": [
    "print(type(mydict.items()))"
   ]
  },
  {
   "cell_type": "code",
   "execution_count": 48,
   "id": "250c7b98-2641-4349-9ef8-24fe21657d6c",
   "metadata": {},
   "outputs": [
    {
     "name": "stdout",
     "output_type": "stream",
     "text": [
      "[('fast', 'in a quick manner'), ('sakshi', 'a simple girl'), ('marks', '34,67,45,67'), ('anotherdict', {'sakshi': 'a coder'})]\n"
     ]
    }
   ],
   "source": [
    "print(list(mydict.items()))"
   ]
  },
  {
   "cell_type": "markdown",
   "id": "d49daa8f-2d25-4a3e-8521-f498f0715beb",
   "metadata": {},
   "source": [
    "# update method\n",
    "### update the old dictionary"
   ]
  },
  {
   "cell_type": "code",
   "execution_count": 49,
   "id": "1653f175-a379-4188-b8f2-7776ba9daa30",
   "metadata": {},
   "outputs": [
    {
     "name": "stdout",
     "output_type": "stream",
     "text": [
      "{'fast': 'in a quick manner', 'sakshi': 'a simple girl', 'marks': '34,67,45,67', 'anotherdict': {'sakshi': 'a coder'}}\n"
     ]
    }
   ],
   "source": [
    "print(mydict)"
   ]
  },
  {
   "cell_type": "code",
   "execution_count": 54,
   "id": "f1f807f6-4132-4d86-87b4-c2565d0952d6",
   "metadata": {},
   "outputs": [
    {
     "name": "stdout",
     "output_type": "stream",
     "text": [
      "{'fast': 'in a quick manner', 'sakshi': 'dancer', 'marks': '34,67,45,67', 'anotherdict': {'sakshi': 'a coder'}, ' shivangi': ' a sister', ' sakshi': 'dancer'}\n"
     ]
    }
   ],
   "source": [
    "updatedict={ \" shivangi\":\" a sister\",\n",
    "           \"sakshi\":\"dancer\"}\n",
    "\n",
    "mydict.update(updatedict)\n",
    "print(mydict)\n"
   ]
  },
  {
   "cell_type": "markdown",
   "id": "be4eda91-da35-42e2-a744-ab0bb077df58",
   "metadata": {},
   "source": [
    "### it also updates the already existence value"
   ]
  },
  {
   "cell_type": "markdown",
   "id": "5968f50c-6d4b-4aa6-a120-4bef76bf4f57",
   "metadata": {},
   "source": [
    "# get method \n",
    "#### it prints the value that we want to print"
   ]
  },
  {
   "cell_type": "code",
   "execution_count": 56,
   "id": "a275c678-925c-4540-9fb9-f9a7f45ab2e0",
   "metadata": {},
   "outputs": [
    {
     "name": "stdout",
     "output_type": "stream",
     "text": [
      "dancer\n"
     ]
    }
   ],
   "source": [
    "print(mydict.get(\"sakshi\"))"
   ]
  },
  {
   "cell_type": "code",
   "execution_count": 57,
   "id": "d5f5ab78-2ab5-4cd2-8941-703821d93e93",
   "metadata": {},
   "outputs": [
    {
     "name": "stdout",
     "output_type": "stream",
     "text": [
      "dancer\n"
     ]
    }
   ],
   "source": [
    "print(mydict[\"sakshi\"])"
   ]
  },
  {
   "cell_type": "code",
   "execution_count": 58,
   "id": "a0810fbc-f475-42c0-96eb-36e9d29c3a27",
   "metadata": {},
   "outputs": [
    {
     "name": "stdout",
     "output_type": "stream",
     "text": [
      "None\n"
     ]
    }
   ],
   "source": [
    "print(mydict.get(\"sakshi2\")) ### return the none value."
   ]
  },
  {
   "cell_type": "code",
   "execution_count": 60,
   "id": "3ed5c64c-9df2-47ac-a8a0-32b9ce14e4db",
   "metadata": {},
   "outputs": [
    {
     "ename": "KeyError",
     "evalue": "'sakshi2'",
     "output_type": "error",
     "traceback": [
      "\u001b[0;31m---------------------------------------------------------------------------\u001b[0m",
      "\u001b[0;31mKeyError\u001b[0m                                  Traceback (most recent call last)",
      "Cell \u001b[0;32mIn[60], line 1\u001b[0m\n\u001b[0;32m----> 1\u001b[0m \u001b[38;5;28mprint\u001b[39m(\u001b[43mmydict\u001b[49m\u001b[43m[\u001b[49m\u001b[38;5;124;43m\"\u001b[39;49m\u001b[38;5;124;43msakshi2\u001b[39;49m\u001b[38;5;124;43m\"\u001b[39;49m\u001b[43m]\u001b[49m)\n\u001b[1;32m      2\u001b[0m \u001b[38;5;66;03m### hense in dictionary if  the key value of [ ] is not present then it will show error but get method does not show the error.\u001b[39;00m\n",
      "\u001b[0;31mKeyError\u001b[0m: 'sakshi2'"
     ]
    }
   ],
   "source": [
    "print(mydict[\"sakshi2\"])\n",
    "### hense in dictionary if  the key value of [ ] is not present then it will show error but get method does not show the error."
   ]
  },
  {
   "cell_type": "code",
   "execution_count": null,
   "id": "0bed9752-a91e-4b96-ae4e-3f9fc7049a5d",
   "metadata": {},
   "outputs": [],
   "source": []
  },
  {
   "cell_type": "markdown",
   "id": "36b50885-6725-489f-b454-c60cb452806b",
   "metadata": {},
   "source": [
    "# set in python\n",
    "#### set is a collection of non repitable items"
   ]
  },
  {
   "cell_type": "code",
   "execution_count": 1,
   "id": "56fbf3c4-6b7c-4dcc-b497-042a152eb9e9",
   "metadata": {},
   "outputs": [
    {
     "name": "stdout",
     "output_type": "stream",
     "text": [
      "{1, 3, 5, 6, 8}\n"
     ]
    }
   ],
   "source": [
    "a={1,3,5,6,8}\n",
    "print(a)"
   ]
  },
  {
   "cell_type": "code",
   "execution_count": 2,
   "id": "c6ecd6dc-e54f-4b4f-94d0-d830f72e696e",
   "metadata": {},
   "outputs": [
    {
     "name": "stdout",
     "output_type": "stream",
     "text": [
      "<class 'set'>\n"
     ]
    }
   ],
   "source": [
    "print(type(a))"
   ]
  },
  {
   "cell_type": "code",
   "execution_count": 3,
   "id": "556b8296-d24f-47d7-9802-49e0c17eb277",
   "metadata": {},
   "outputs": [
    {
     "name": "stdout",
     "output_type": "stream",
     "text": [
      "{1, 3, 5, 6, 8}\n"
     ]
    }
   ],
   "source": [
    "a={1,3,5,3,1,6,8} ### in set there is no repetitive value.\n",
    "print(a)"
   ]
  },
  {
   "cell_type": "code",
   "execution_count": 4,
   "id": "31a908ec-cf08-4f9c-9ce1-642659d71452",
   "metadata": {},
   "outputs": [
    {
     "name": "stdout",
     "output_type": "stream",
     "text": [
      "<class 'set'>\n"
     ]
    }
   ],
   "source": [
    "print(type(a))"
   ]
  },
  {
   "cell_type": "markdown",
   "id": "9948587d-8155-418f-b47a-b9d81211b6f9",
   "metadata": {},
   "source": [
    "### empty set"
   ]
  },
  {
   "cell_type": "code",
   "execution_count": 5,
   "id": "92c9e038-b377-4c5e-97a2-5c4215649a47",
   "metadata": {},
   "outputs": [
    {
     "name": "stdout",
     "output_type": "stream",
     "text": [
      "{}\n"
     ]
    }
   ],
   "source": [
    "a={}\n",
    "print(a)"
   ]
  },
  {
   "cell_type": "code",
   "execution_count": 7,
   "id": "fc4c301f-47e4-465b-9e06-b6c738b1f198",
   "metadata": {},
   "outputs": [
    {
     "name": "stdout",
     "output_type": "stream",
     "text": [
      "<class 'dict'>\n"
     ]
    }
   ],
   "source": [
    "print(type(a)) ### if we put \" { }\" than it will be empty dictionary not a empty set."
   ]
  },
  {
   "cell_type": "markdown",
   "id": "f8d65af5-e585-494d-ac28-d93c3edae48d",
   "metadata": {},
   "source": [
    " #### empty set is created by the below syntax."
   ]
  },
  {
   "cell_type": "code",
   "execution_count": 8,
   "id": "8adf52ed-5ea8-4a48-ae96-2218221a369e",
   "metadata": {},
   "outputs": [
    {
     "name": "stdout",
     "output_type": "stream",
     "text": [
      "set()\n"
     ]
    }
   ],
   "source": [
    "b=set()\n",
    "print(b)"
   ]
  },
  {
   "cell_type": "code",
   "execution_count": 9,
   "id": "ef286dc9-a631-42d0-a105-c725167d0315",
   "metadata": {},
   "outputs": [
    {
     "name": "stdout",
     "output_type": "stream",
     "text": [
      "<class 'set'>\n"
     ]
    }
   ],
   "source": [
    "print(type(b))"
   ]
  },
  {
   "cell_type": "markdown",
   "id": "4c414d4a-80a8-4f68-bc19-8e90a121df86",
   "metadata": {},
   "source": [
    "## methods of sets "
   ]
  },
  {
   "cell_type": "markdown",
   "id": "fd9edf06-fc69-4f9e-8d6b-8802011c2b8d",
   "metadata": {},
   "source": [
    "##### creating an empty set."
   ]
  },
  {
   "cell_type": "code",
   "execution_count": 10,
   "id": "b88511ab-9917-4e24-b906-4fd8cb825c10",
   "metadata": {},
   "outputs": [
    {
     "name": "stdout",
     "output_type": "stream",
     "text": [
      "set()\n"
     ]
    }
   ],
   "source": [
    "b=set()\n",
    "print(b)"
   ]
  },
  {
   "cell_type": "markdown",
   "id": "f7fe5f2e-f50c-4c4f-bf9c-66cfc4dfa21c",
   "metadata": {},
   "source": [
    "### add method"
   ]
  },
  {
   "cell_type": "code",
   "execution_count": 12,
   "id": "cf557e2f-2e91-4c68-b3ac-588220ac77db",
   "metadata": {},
   "outputs": [
    {
     "name": "stdout",
     "output_type": "stream",
     "text": [
      "{8, 4, 6}\n"
     ]
    }
   ],
   "source": [
    "b.add(4)\n",
    "b.add(6)\n",
    "b.add(8)\n",
    "b.add(8) ### adding a value repetedly does not change the value of set.\n",
    "print(b)"
   ]
  },
  {
   "cell_type": "code",
   "execution_count": 14,
   "id": "ab794343-cc40-4014-ad03-003ed2a05e6b",
   "metadata": {},
   "outputs": [
    {
     "ename": "TypeError",
     "evalue": "unhashable type: 'list'",
     "output_type": "error",
     "traceback": [
      "\u001b[0;31m---------------------------------------------------------------------------\u001b[0m",
      "\u001b[0;31mTypeError\u001b[0m                                 Traceback (most recent call last)",
      "Cell \u001b[0;32mIn[14], line 1\u001b[0m\n\u001b[0;32m----> 1\u001b[0m \u001b[43mb\u001b[49m\u001b[38;5;241;43m.\u001b[39;49m\u001b[43madd\u001b[49m\u001b[43m(\u001b[49m\u001b[43m[\u001b[49m\u001b[38;5;241;43m2\u001b[39;49m\u001b[43m,\u001b[49m\u001b[38;5;241;43m4\u001b[39;49m\u001b[43m,\u001b[49m\u001b[38;5;241;43m6\u001b[39;49m\u001b[43m]\u001b[49m\u001b[43m)\u001b[49m\n\u001b[1;32m      2\u001b[0m \u001b[38;5;28mprint\u001b[39m(b)  \u001b[38;5;66;03m### we cannot add list  to the set.\u001b[39;00m\n",
      "\u001b[0;31mTypeError\u001b[0m: unhashable type: 'list'"
     ]
    }
   ],
   "source": [
    "b.add([2,4,6])\n",
    "print(b)  ### we cannot add list  to the set."
   ]
  },
  {
   "cell_type": "code",
   "execution_count": 15,
   "id": "faeaa7d8-d421-4349-a7ac-89f67a2501df",
   "metadata": {},
   "outputs": [
    {
     "ename": "TypeError",
     "evalue": "unhashable type: 'dict'",
     "output_type": "error",
     "traceback": [
      "\u001b[0;31m---------------------------------------------------------------------------\u001b[0m",
      "\u001b[0;31mTypeError\u001b[0m                                 Traceback (most recent call last)",
      "Cell \u001b[0;32mIn[15], line 1\u001b[0m\n\u001b[0;32m----> 1\u001b[0m \u001b[43mb\u001b[49m\u001b[38;5;241;43m.\u001b[39;49m\u001b[43madd\u001b[49m\u001b[43m(\u001b[49m\u001b[43m{\u001b[49m\u001b[38;5;124;43m\"\u001b[39;49m\u001b[38;5;124;43msakshi\u001b[39;49m\u001b[38;5;124;43m\"\u001b[39;49m\u001b[43m:\u001b[49m\u001b[43m \u001b[49m\u001b[38;5;124;43m\"\u001b[39;49m\u001b[38;5;124;43ma dancer\u001b[39;49m\u001b[38;5;124;43m\"\u001b[39;49m\u001b[43m}\u001b[49m\u001b[43m)\u001b[49m\n\u001b[1;32m      2\u001b[0m \u001b[38;5;28mprint\u001b[39m(b)\n",
      "\u001b[0;31mTypeError\u001b[0m: unhashable type: 'dict'"
     ]
    }
   ],
   "source": [
    "b.add({\"sakshi\": \"a dancer\"})\n",
    "print(b) ## we cannot add dictionary to the python. "
   ]
  },
  {
   "cell_type": "markdown",
   "id": "2c05bba5-1376-4d66-a0da-cf38ec3dae83",
   "metadata": {},
   "source": [
    "###### unhasable means if the  value of the content canbe changed in their lifespan than it is a unhashable."
   ]
  },
  {
   "cell_type": "markdown",
   "id": "407bc47e-4daa-4926-a37c-3537ee6c6058",
   "metadata": {},
   "source": [
    "## properties of sets\n",
    "##### unordered\n",
    "##### unindexed\n",
    "##### there is no way of changing items in sets.\n",
    "##### it cannot contain duplicate values."
   ]
  },
  {
   "cell_type": "markdown",
   "id": "7408d413-9b1c-4b46-b7c8-4d68245fbd70",
   "metadata": {},
   "source": [
    "## Operations on sets."
   ]
  },
  {
   "cell_type": "markdown",
   "id": "97287ea8-073a-40ea-94fb-f6df3223c86e",
   "metadata": {},
   "source": [
    "###  length of the set"
   ]
  },
  {
   "cell_type": "code",
   "execution_count": 18,
   "id": "c205552d-5a2c-4dc1-8d96-88738403e607",
   "metadata": {},
   "outputs": [
    {
     "name": "stdout",
     "output_type": "stream",
     "text": [
      "5\n"
     ]
    }
   ],
   "source": [
    "### consider a set\n",
    "b={4,6,2,7,9}\n",
    "print(len(b))"
   ]
  },
  {
   "cell_type": "markdown",
   "id": "47efa048-829a-4988-8c4a-d2c55689c76e",
   "metadata": {},
   "source": [
    "#### remove the element of the set"
   ]
  },
  {
   "cell_type": "code",
   "execution_count": 20,
   "id": "1d7fe7c9-17c2-47e2-88e0-9a9b1c8e218f",
   "metadata": {},
   "outputs": [
    {
     "name": "stdout",
     "output_type": "stream",
     "text": [
      "{2, 4, 6, 9}\n"
     ]
    }
   ],
   "source": [
    "b.remove(7)\n",
    "print(b)"
   ]
  },
  {
   "cell_type": "code",
   "execution_count": 21,
   "id": "f82aee3a-fcf8-4267-91c8-a7698a73ec05",
   "metadata": {},
   "outputs": [
    {
     "ename": "KeyError",
     "evalue": "8",
     "output_type": "error",
     "traceback": [
      "\u001b[0;31m---------------------------------------------------------------------------\u001b[0m",
      "\u001b[0;31mKeyError\u001b[0m                                  Traceback (most recent call last)",
      "Cell \u001b[0;32mIn[21], line 1\u001b[0m\n\u001b[0;32m----> 1\u001b[0m \u001b[43mb\u001b[49m\u001b[38;5;241;43m.\u001b[39;49m\u001b[43mremove\u001b[49m\u001b[43m(\u001b[49m\u001b[38;5;241;43m8\u001b[39;49m\u001b[43m)\u001b[49m\n\u001b[1;32m      2\u001b[0m \u001b[38;5;28mprint\u001b[39m(b)\n",
      "\u001b[0;31mKeyError\u001b[0m: 8"
     ]
    }
   ],
   "source": [
    "b.remove(8)\n",
    "print(b)"
   ]
  },
  {
   "cell_type": "markdown",
   "id": "e9b6ea20-bca9-4f66-85ec-2c2fa394ef52",
   "metadata": {},
   "source": [
    "### pop the set: remove any value from the set."
   ]
  },
  {
   "cell_type": "code",
   "execution_count": 25,
   "id": "83d33b71-f9ac-46b3-8a66-c46f71bb51ba",
   "metadata": {},
   "outputs": [
    {
     "name": "stdout",
     "output_type": "stream",
     "text": [
      "4\n"
     ]
    }
   ],
   "source": [
    "print(b.pop())"
   ]
  },
  {
   "cell_type": "markdown",
   "id": "c8c3020b-c1fd-45e8-bb12-77e4bcce7d4e",
   "metadata": {},
   "source": [
    "### clear set"
   ]
  },
  {
   "cell_type": "code",
   "execution_count": 27,
   "id": "fa828d85-3693-4a4e-939e-6e819043758b",
   "metadata": {},
   "outputs": [
    {
     "name": "stdout",
     "output_type": "stream",
     "text": [
      "None\n"
     ]
    }
   ],
   "source": [
    "print(b.clear())"
   ]
  },
  {
   "cell_type": "code",
   "execution_count": 29,
   "id": "16794ffa-4799-4c0c-b24c-3d334311200e",
   "metadata": {},
   "outputs": [
    {
     "name": "stdout",
     "output_type": "stream",
     "text": [
      "{1, 2, 4, 5, 6, 7, 8, 9, 11, 21}\n"
     ]
    }
   ],
   "source": [
    "a={1,4,5,7,8,8,9,}\n",
    "b={4,6,2,11,21,4,6}\n",
    "print(s.union(a,b))"
   ]
  },
  {
   "cell_type": "code",
   "execution_count": 30,
   "id": "59185f55-1012-44ce-a230-f52eaa7ce17a",
   "metadata": {},
   "outputs": [
    {
     "name": "stdout",
     "output_type": "stream",
     "text": [
      "{4}\n"
     ]
    }
   ],
   "source": [
    "print(s.intersection(a,b))"
   ]
  },
  {
   "cell_type": "code",
   "execution_count": null,
   "id": "2caa7269-4c64-4746-828e-9bd19a876d6e",
   "metadata": {},
   "outputs": [],
   "source": []
  },
  {
   "cell_type": "markdown",
   "id": "225ac890-2f49-4c58-b24c-f1e94e8d4544",
   "metadata": {},
   "source": [
    "# Pactice set of chapter 5"
   ]
  },
  {
   "cell_type": "markdown",
   "id": "1fe18cc6-1fe5-4f9c-a36a-692f61a5397e",
   "metadata": {},
   "source": [
    "#### Q.1 write a program to create a dictionary of hindi words with value as their english translation . provide user an option to look it up."
   ]
  },
  {
   "cell_type": "code",
   "execution_count": 38,
   "id": "6ebec529-8e10-4150-afb9-b0ec94c9e27c",
   "metadata": {},
   "outputs": [
    {
     "name": "stdout",
     "output_type": "stream",
     "text": [
      "options are: dict_keys(['fankha', 'roshni', 'kitab', 'dibba'])\n"
     ]
    },
    {
     "name": "stdin",
     "output_type": "stream",
     "text": [
      "enter the hindi word\n",
      " dibba\n"
     ]
    },
    {
     "name": "stdout",
     "output_type": "stream",
     "text": [
      "the meaning of your word is: a box\n"
     ]
    }
   ],
   "source": [
    "mydict= {\n",
    "    \"fankha\": \"a fan\",\n",
    "    \"roshni\": \"a light\",\n",
    "    \"kitab\": \"a book\",\n",
    "    \"dibba\": \"a box\",\n",
    "}\n",
    "print(\"options are:\", mydict.keys())\n",
    "a=input(\"enter the hindi word\\n\")\n",
    "print(\"the meaning of your word is:\",mydict[a])\n",
    "    "
   ]
  },
  {
   "cell_type": "code",
   "execution_count": 40,
   "id": "274f6922-270f-48b7-a7b3-6bda54048b23",
   "metadata": {},
   "outputs": [
    {
     "name": "stdout",
     "output_type": "stream",
     "text": [
      "the student of class 8 are : dict_keys(['rohan', 'shalini', 'sweta', 'neha'])\n"
     ]
    },
    {
     "name": "stdin",
     "output_type": "stream",
     "text": [
      "enter the name of the student to find the marks:\n",
      " shalini\n"
     ]
    },
    {
     "name": "stdout",
     "output_type": "stream",
     "text": [
      "the marks of the student is: 67\n"
     ]
    }
   ],
   "source": [
    "mydict={\n",
    "    \"rohan\": \"56\",\n",
    "    \"shalini\": \"67\",\n",
    "    \"sweta\":\"99\",\n",
    "    \"neha\":\"87\",}\n",
    "print(\"the student of class 8 are :\", mydict.keys())\n",
    "a=input(\"enter the name of the student to find the marks:\\n\")\n",
    "print(\"the marks of the student is:\",mydict.get(a)) #### below line will not throw an error if the key is not present in the dictionary"
   ]
  },
  {
   "cell_type": "code",
   "execution_count": 41,
   "id": "ed4a9cec-a706-4811-b5e2-8cfefad86436",
   "metadata": {},
   "outputs": [
    {
     "name": "stdout",
     "output_type": "stream",
     "text": [
      "the student of class 8 are : dict_keys(['rohan', 'shalini', 'sweta', 'neha'])\n"
     ]
    },
    {
     "name": "stdin",
     "output_type": "stream",
     "text": [
      "enter the name of the student to find the marks:\n",
      " kashish\n"
     ]
    },
    {
     "name": "stdout",
     "output_type": "stream",
     "text": [
      "the marks of the student is: None\n"
     ]
    }
   ],
   "source": [
    "print(\"the student of class 8 are :\", mydict.keys())\n",
    "a=input(\"enter the name of the student to find the marks:\\n\")\n",
    "print(\"the marks of the student is:\",mydict.get(a))"
   ]
  },
  {
   "cell_type": "markdown",
   "id": "00f1cdbc-568a-4446-b20e-79a041f34bba",
   "metadata": {},
   "source": [
    "#### Q.2 write a program to input eight numbers from the user and display all the unique numbers once."
   ]
  },
  {
   "cell_type": "code",
   "execution_count": 52,
   "id": "70561d3e-1101-4c8d-8553-dbf16afe528e",
   "metadata": {},
   "outputs": [
    {
     "name": "stdin",
     "output_type": "stream",
     "text": [
      "enter the value of number 1: 56\n"
     ]
    }
   ],
   "source": [
    "N1=int(input(\"enter the value of number 1:\"))"
   ]
  },
  {
   "cell_type": "code",
   "execution_count": 53,
   "id": "de13c413-c6ef-41e0-abd2-cf3981edae3e",
   "metadata": {},
   "outputs": [
    {
     "name": "stdin",
     "output_type": "stream",
     "text": [
      "enter the value of number 2: 88\n"
     ]
    }
   ],
   "source": [
    "N2=int(input(\"enter the value of number 2:\"))"
   ]
  },
  {
   "cell_type": "code",
   "execution_count": 54,
   "id": "760632b8-5896-4996-8647-2b8a04e5459c",
   "metadata": {},
   "outputs": [
    {
     "name": "stdin",
     "output_type": "stream",
     "text": [
      "enter the value of number 3: 99\n"
     ]
    }
   ],
   "source": [
    "N3=int(input(\"enter the value of number 3:\"))"
   ]
  },
  {
   "cell_type": "code",
   "execution_count": 55,
   "id": "51715b04-4ef1-4e99-87dc-321f0c442624",
   "metadata": {},
   "outputs": [
    {
     "name": "stdin",
     "output_type": "stream",
     "text": [
      "enter the value of number 4: 98\n"
     ]
    }
   ],
   "source": [
    "N4=int(input(\"enter the value of number 4:\"))"
   ]
  },
  {
   "cell_type": "code",
   "execution_count": 56,
   "id": "1bce5539-b365-4d1a-92ae-1e77d52caecd",
   "metadata": {},
   "outputs": [
    {
     "name": "stdin",
     "output_type": "stream",
     "text": [
      "enter the value of number 5: 98\n"
     ]
    }
   ],
   "source": [
    "N5=int(input(\"enter the value of number 5:\"))"
   ]
  },
  {
   "cell_type": "code",
   "execution_count": 57,
   "id": "2b30ff03-0351-4389-a7bc-8b4f18460040",
   "metadata": {},
   "outputs": [
    {
     "name": "stdin",
     "output_type": "stream",
     "text": [
      "enter the value of number 6: 33\n"
     ]
    }
   ],
   "source": [
    "N6=int(input(\"enter the value of number 6:\"))"
   ]
  },
  {
   "cell_type": "code",
   "execution_count": 58,
   "id": "cf197b16-a39c-47f5-97be-b5a8e990a56b",
   "metadata": {},
   "outputs": [
    {
     "name": "stdin",
     "output_type": "stream",
     "text": [
      "enter the value of number 7: 56\n"
     ]
    }
   ],
   "source": [
    "N7=int(input(\"enter the value of number 7:\"))"
   ]
  },
  {
   "cell_type": "code",
   "execution_count": 61,
   "id": "e455781d-e884-4f94-8448-1870ea278e64",
   "metadata": {},
   "outputs": [
    {
     "name": "stdin",
     "output_type": "stream",
     "text": [
      "enter the value of number 8: 88\n"
     ]
    }
   ],
   "source": [
    "N8=int(input(\"enter the value of number 8:\"))\n"
   ]
  },
  {
   "cell_type": "code",
   "execution_count": 62,
   "id": "c47a8b2a-d8ec-4a53-9984-b82c317224ee",
   "metadata": {},
   "outputs": [
    {
     "name": "stdout",
     "output_type": "stream",
     "text": [
      "{33, 98, 99, 56, 88}\n"
     ]
    }
   ],
   "source": [
    "s={N1,N2,N3,N4,N5,N6,N7,N8}\n",
    "print(s)"
   ]
  },
  {
   "cell_type": "markdown",
   "id": "537079cc-525c-4de7-8fcc-573143601c3f",
   "metadata": {},
   "source": [
    "#### Q.3 can we have a set with 18(int) and 18(str) as a value in it?"
   ]
  },
  {
   "cell_type": "code",
   "execution_count": 70,
   "id": "e54f018a-a13d-4738-94d8-d25d95eea0c4",
   "metadata": {},
   "outputs": [
    {
     "name": "stdout",
     "output_type": "stream",
     "text": [
      "{18, 18.1, '18'}\n"
     ]
    }
   ],
   "source": [
    "s={18,\"18\", 18.1}\n",
    "print(s)"
   ]
  },
  {
   "cell_type": "markdown",
   "id": "0d788bc4-7b7f-4744-b55a-512e67c4b106",
   "metadata": {},
   "source": [
    "##### yes we can have"
   ]
  },
  {
   "cell_type": "code",
   "execution_count": 71,
   "id": "bd052362-f7fe-441a-ba79-6a3f738e80cf",
   "metadata": {},
   "outputs": [
    {
     "name": "stdout",
     "output_type": "stream",
     "text": [
      "3\n"
     ]
    }
   ],
   "source": [
    "print(len(s))"
   ]
  },
  {
   "cell_type": "markdown",
   "id": "47f2b82c-bdf2-4c56-bbfe-90a2b8ca557e",
   "metadata": {},
   "source": [
    "#### Q.4 what will be the length of the following set?"
   ]
  },
  {
   "cell_type": "code",
   "execution_count": 73,
   "id": "55d8018e-ad56-45fb-ad29-6da33957ba15",
   "metadata": {},
   "outputs": [
    {
     "name": "stdout",
     "output_type": "stream",
     "text": [
      "set()\n"
     ]
    }
   ],
   "source": [
    "s=set()\n",
    "print(s)"
   ]
  },
  {
   "cell_type": "code",
   "execution_count": 74,
   "id": "33f79362-7981-4d85-b0f5-5f7bb4dc5f0e",
   "metadata": {},
   "outputs": [
    {
     "name": "stdout",
     "output_type": "stream",
     "text": [
      "{20}\n"
     ]
    }
   ],
   "source": [
    "s.add(20)\n",
    "print(s)"
   ]
  },
  {
   "cell_type": "code",
   "execution_count": 76,
   "id": "5cf618e2-e6c3-4786-a786-2568a008eb99",
   "metadata": {},
   "outputs": [
    {
     "name": "stdout",
     "output_type": "stream",
     "text": [
      "{20}\n"
     ]
    }
   ],
   "source": [
    "s.add(20.0)\n",
    "print(s)"
   ]
  },
  {
   "cell_type": "code",
   "execution_count": 77,
   "id": "f2db1676-d888-4260-83a5-72244435d144",
   "metadata": {},
   "outputs": [
    {
     "name": "stdout",
     "output_type": "stream",
     "text": [
      "{'20', 20}\n"
     ]
    }
   ],
   "source": [
    "s.add(\"20\")\n",
    "print(s)"
   ]
  },
  {
   "cell_type": "code",
   "execution_count": 78,
   "id": "22bd1728-d125-4575-94ab-1d62862e4a8e",
   "metadata": {},
   "outputs": [
    {
     "name": "stdout",
     "output_type": "stream",
     "text": [
      "2\n"
     ]
    }
   ],
   "source": [
    "print(len(s))"
   ]
  },
  {
   "cell_type": "markdown",
   "id": "349fbc14-d7c6-4953-ae8c-2e5d6c9b9515",
   "metadata": {},
   "source": [
    "#### Q.5 what is the type of s"
   ]
  },
  {
   "cell_type": "code",
   "execution_count": 79,
   "id": "fe4d4bb6-744b-4c19-979a-0017aab8d5b5",
   "metadata": {},
   "outputs": [
    {
     "name": "stdout",
     "output_type": "stream",
     "text": [
      "<class 'dict'>\n"
     ]
    }
   ],
   "source": [
    "s={}\n",
    "print(type(s))"
   ]
  },
  {
   "cell_type": "markdown",
   "id": "be171faf-3bb2-4869-9796-4e5766f82384",
   "metadata": {},
   "source": [
    "##### Q.6 create an empty dictionary.allow 4 friends to enter their favourite language as values and use keys as their names. assume that the names are unique."
   ]
  },
  {
   "cell_type": "code",
   "execution_count": 93,
   "id": "60380e5d-0125-4cf0-a0c4-0fe911af106b",
   "metadata": {},
   "outputs": [
    {
     "name": "stdin",
     "output_type": "stream",
     "text": [
      "enter your first language:\n",
      " math\n",
      "enter your second language:\n",
      " science\n",
      "enter your third language:\n",
      " science\n",
      "enter your fourth language:\n",
      " english\n"
     ]
    }
   ],
   "source": [
    "s=set()\n",
    "s1=input(\"enter your first language:\\n\")\n",
    "s2=input(\"enter your second language:\\n\")\n",
    "s3=input(\"enter your third language:\\n\")\n",
    "s4=input(\"enter your fourth language:\\n\")"
   ]
  },
  {
   "cell_type": "code",
   "execution_count": 94,
   "id": "467b0753-64ed-4e7c-bd09-1dc1f8d9e0f7",
   "metadata": {},
   "outputs": [
    {
     "name": "stdout",
     "output_type": "stream",
     "text": [
      "{'math', 'english', 'science'}\n"
     ]
    }
   ],
   "source": [
    "s.add(s1)\n",
    "s.add(s2)\n",
    "s.add(s3)\n",
    "s.add(s4)\n",
    "print(s)"
   ]
  },
  {
   "cell_type": "code",
   "execution_count": null,
   "id": "bc847881-79e2-433c-813d-e21bf1bc537c",
   "metadata": {},
   "outputs": [],
   "source": []
  },
  {
   "cell_type": "code",
   "execution_count": 107,
   "id": "f490d0c6-a587-4378-9e66-23ec51a70757",
   "metadata": {},
   "outputs": [
    {
     "name": "stdin",
     "output_type": "stream",
     "text": [
      "enter the fav language og ankit:\n",
      " pthon\n",
      "enter the fav language og sonali:\n",
      " python\n",
      "enter the fav language og priya:\n",
      " jana\n",
      "enter the fav language og karishma:\n",
      " node java\n"
     ]
    },
    {
     "name": "stdout",
     "output_type": "stream",
     "text": [
      "{'ankit': 'pthon', 'sonali': 'python', 'priya': 'jana', 'karishma': 'node java'}\n"
     ]
    }
   ],
   "source": [
    "favlang={}\n",
    "s1=input(\"enter the fav language og ankit:\\n\")\n",
    "s2=input(\"enter the fav language og sonali:\\n\")\n",
    "s3=input(\"enter the fav language og priya:\\n\")\n",
    "s4=input(\"enter the fav language og karishma:\\n\")\n",
    "\n",
    "favlang['ankit']=s1\n",
    "favlang['sonali']=s2\n",
    "favlang['priya']=s3\n",
    "favlang['karishma']=s4\n",
    "print(favlang)"
   ]
  },
  {
   "cell_type": "markdown",
   "id": "3b674271-2438-4f20-ad35-91a607ad38d7",
   "metadata": {},
   "source": [
    "#### Q.7 if the name of 2 friends are same , what will happen gto the program."
   ]
  },
  {
   "cell_type": "markdown",
   "id": "547949a0-0403-4a61-a425-38f3ffb5bbf6",
   "metadata": {},
   "source": [
    "# we cannot store list inside the set..."
   ]
  },
  {
   "cell_type": "code",
   "execution_count": 108,
   "id": "fb686d16-c2e6-4675-9533-7cdf38475872",
   "metadata": {},
   "outputs": [
    {
     "name": "stdin",
     "output_type": "stream",
     "text": [
      "enter the fav language og ankit:\n",
      " c\n",
      "enter the fav language og sonali:\n",
      " java\n",
      "enter the fav language og priya:\n",
      " python\n",
      "enter the fav language og karishma:\n",
      " python\n",
      "enter the fav language og karishma:\n",
      " c\n"
     ]
    },
    {
     "name": "stdout",
     "output_type": "stream",
     "text": [
      "{'ankit': 'c', 'sonali': 'java', 'priya': 'python', 'karishma': 'c'}\n"
     ]
    }
   ],
   "source": [
    "favlang={}\n",
    "s1=input(\"enter the fav language og ankit:\\n\")\n",
    "s2=input(\"enter the fav language og sonali:\\n\")\n",
    "s3=input(\"enter the fav language og priya:\\n\")\n",
    "s4=input(\"enter the fav language og karishma:\\n\")\n",
    "s5=input(\"enter the fav language og karishma:\\n\")\n",
    "favlang['ankit']=s1\n",
    "favlang['sonali']=s2\n",
    "favlang['priya']=s3\n",
    "favlang['karishma']=s4\n",
    "favlang['karishma']=s5\n",
    "print(favlang)"
   ]
  }
 ],
 "metadata": {
  "kernelspec": {
   "display_name": "Python 3 (ipykernel)",
   "language": "python",
   "name": "python3"
  },
  "language_info": {
   "codemirror_mode": {
    "name": "ipython",
    "version": 3
   },
   "file_extension": ".py",
   "mimetype": "text/x-python",
   "name": "python",
   "nbconvert_exporter": "python",
   "pygments_lexer": "ipython3",
   "version": "3.10.8"
  }
 },
 "nbformat": 4,
 "nbformat_minor": 5
}
