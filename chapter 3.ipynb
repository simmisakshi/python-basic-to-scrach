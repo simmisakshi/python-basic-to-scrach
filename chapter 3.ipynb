{
 "cells": [
  {
   "cell_type": "markdown",
   "id": "7bec5eeb-f30d-480a-b9c2-b313e985e861",
   "metadata": {},
   "source": [
    "# string"
   ]
  },
  {
   "cell_type": "code",
   "execution_count": 1,
   "id": "c03f4362-2fa4-4402-a16f-589ca55d1c7f",
   "metadata": {},
   "outputs": [
    {
     "name": "stdout",
     "output_type": "stream",
     "text": [
      " harry\n"
     ]
    }
   ],
   "source": [
    "a= \" harry\"\n",
    "print(a)"
   ]
  },
  {
   "cell_type": "markdown",
   "id": "6373ee3a-c159-4a43-9eaa-9feb7712eb3b",
   "metadata": {},
   "source": [
    "#### string is always written in single quotes, double quotes and tripple quotes."
   ]
  },
  {
   "cell_type": "code",
   "execution_count": null,
   "id": "3d0d07f4-916f-4ccc-aaab-33eedfb481f0",
   "metadata": {},
   "outputs": [],
   "source": [
    "a=\"23456\"\n",
    "## here a is a string"
   ]
  },
  {
   "cell_type": "code",
   "execution_count": 3,
   "id": "c7d883b7-a2d4-4a15-855c-5987f61344de",
   "metadata": {},
   "outputs": [
    {
     "ename": "TypeError",
     "evalue": "can only concatenate str (not \"int\") to str",
     "output_type": "error",
     "traceback": [
      "\u001b[0;31m---------------------------------------------------------------------------\u001b[0m",
      "\u001b[0;31mTypeError\u001b[0m                                 Traceback (most recent call last)",
      "Cell \u001b[0;32mIn[3], line 2\u001b[0m\n\u001b[1;32m      1\u001b[0m a\u001b[38;5;241m=\u001b[39m\u001b[38;5;124m\"\u001b[39m\u001b[38;5;124m34546\u001b[39m\u001b[38;5;124m\"\u001b[39m\n\u001b[0;32m----> 2\u001b[0m \u001b[38;5;28mprint\u001b[39m (\u001b[43ma\u001b[49m\u001b[38;5;241;43m+\u001b[39;49m\u001b[38;5;241;43m5\u001b[39;49m)\n",
      "\u001b[0;31mTypeError\u001b[0m: can only concatenate str (not \"int\") to str"
     ]
    }
   ],
   "source": [
    "a=\"34546\"\n",
    "print (a+5)"
   ]
  },
  {
   "cell_type": "markdown",
   "id": "bc92c9af-fe9b-4293-83c0-c0c6bcf038c0",
   "metadata": {},
   "source": [
    "### here its a syntax erroe because  we can't add integer in string"
   ]
  },
  {
   "cell_type": "markdown",
   "id": "744ae48e-d151-4e96-8dad-c4954734bb78",
   "metadata": {},
   "source": [
    "#### so her we will do type casting"
   ]
  },
  {
   "cell_type": "markdown",
   "id": "742e994f-1e9a-4898-a7fc-8e6014ec76bf",
   "metadata": {},
   "source": [
    "###### it means we will try to change the data type"
   ]
  },
  {
   "cell_type": "code",
   "execution_count": 4,
   "id": "9163b9f4-8baf-447e-ae76-933faf4d1b37",
   "metadata": {},
   "outputs": [
    {
     "name": "stdout",
     "output_type": "stream",
     "text": [
      "239\n"
     ]
    }
   ],
   "source": [
    "a=\"234\"\n",
    "a=int(a)\n",
    "print(a+5)"
   ]
  },
  {
   "cell_type": "markdown",
   "id": "6a5889e6-da3d-4ea7-adf2-ab25dfe5a1e7",
   "metadata": {},
   "source": [
    "# input function"
   ]
  },
  {
   "cell_type": "code",
   "execution_count": 8,
   "id": "2d672324-7fe7-4b26-acd4-48d4e4163681",
   "metadata": {},
   "outputs": [
    {
     "name": "stdin",
     "output_type": "stream",
     "text": [
      "enter your name 34\n"
     ]
    },
    {
     "name": "stdout",
     "output_type": "stream",
     "text": [
      "34\n"
     ]
    }
   ],
   "source": [
    "a= input(\"enter your name\")\n",
    "print (a)"
   ]
  },
  {
   "cell_type": "code",
   "execution_count": 7,
   "id": "cb98a461-a233-4768-a9ce-9cd9f2872cf4",
   "metadata": {},
   "outputs": [
    {
     "name": "stdout",
     "output_type": "stream",
     "text": [
      "sakshi\n"
     ]
    }
   ],
   "source": [
    "print(a)"
   ]
  },
  {
   "cell_type": "markdown",
   "id": "e7617cf1-37dc-4fd5-9ce2-c8ce65e0c139",
   "metadata": {},
   "source": [
    "#### in input function every input it takes is a string"
   ]
  },
  {
   "cell_type": "code",
   "execution_count": 10,
   "id": "d83cefeb-e9a2-4c73-9482-2efb0f5511e2",
   "metadata": {},
   "outputs": [
    {
     "name": "stdin",
     "output_type": "stream",
     "text": [
      "inter your class : 8\n"
     ]
    },
    {
     "name": "stdout",
     "output_type": "stream",
     "text": [
      "8\n"
     ]
    }
   ],
   "source": [
    "b= input(\"inter your class :\")\n",
    "print (b)"
   ]
  },
  {
   "cell_type": "code",
   "execution_count": 11,
   "id": "9e2f61bf-c959-4b62-ab12-d28aee7756de",
   "metadata": {},
   "outputs": [
    {
     "name": "stdout",
     "output_type": "stream",
     "text": [
      "<class 'str'>\n"
     ]
    }
   ],
   "source": [
    "print(type(b))"
   ]
  },
  {
   "cell_type": "code",
   "execution_count": 12,
   "id": "4acd2674-b014-42d2-bfaf-e1d3f054a217",
   "metadata": {},
   "outputs": [
    {
     "name": "stdout",
     "output_type": "stream",
     "text": [
      "<class 'int'>\n"
     ]
    }
   ],
   "source": [
    "b=int(b) ### convert b to integer\n",
    "print(type(b))"
   ]
  },
  {
   "cell_type": "code",
   "execution_count": 2,
   "id": "d82fb010-fa68-4d8b-aa29-71411fff8bd7",
   "metadata": {},
   "outputs": [
    {
     "name": "stdin",
     "output_type": "stream",
     "text": [
      " enter your fathers name: sanjay kumar chaudhary\n"
     ]
    }
   ],
   "source": [
    "c=input(\" enter your fathers name:\")"
   ]
  },
  {
   "cell_type": "code",
   "execution_count": 4,
   "id": "b3999818-a053-44e0-9564-2f24a72e06ec",
   "metadata": {},
   "outputs": [
    {
     "name": "stdout",
     "output_type": "stream",
     "text": [
      "sakshi\n"
     ]
    }
   ],
   "source": [
    "b=\"sakshi\"\n",
    "print(b)"
   ]
  },
  {
   "cell_type": "markdown",
   "id": "ba8c8c1a-c585-4d0c-9141-0f965cbb913e",
   "metadata": {},
   "source": [
    "### string slicing"
   ]
  },
  {
   "cell_type": "code",
   "execution_count": 5,
   "id": "563d60db-6fc5-4c2a-9751-1f14d0d1b195",
   "metadata": {},
   "outputs": [
    {
     "name": "stdout",
     "output_type": "stream",
     "text": [
      "<class 'str'>\n"
     ]
    }
   ],
   "source": [
    "name=\"sakshi\"\n",
    "print(type(name))"
   ]
  },
  {
   "cell_type": "markdown",
   "id": "6bcef92f-1e9d-4d7f-b339-97866864768a",
   "metadata": {},
   "source": [
    "##### in string we can concatenate the words with the help of '+'."
   ]
  },
  {
   "cell_type": "markdown",
   "id": "4da1b824-0513-4c4b-8db7-9b39565b4890",
   "metadata": {},
   "source": [
    "\n",
    "###### concatenation means joining two or more numbers in a sentence."
   ]
  },
  {
   "cell_type": "markdown",
   "id": "d3740132-679d-480a-bffa-c353fed6863e",
   "metadata": {},
   "source": [
    "#### example"
   ]
  },
  {
   "cell_type": "code",
   "execution_count": 17,
   "id": "2c86c217-73d1-4f44-8fb6-9f6036a12ad5",
   "metadata": {},
   "outputs": [
    {
     "name": "stdout",
     "output_type": "stream",
     "text": [
      " GOOD MORNING , sakshi\n"
     ]
    }
   ],
   "source": [
    "name= \"sakshi\"\n",
    "greetings=\" GOOD MORNING , \"\n",
    "c= greetings + name\n",
    "print(c)"
   ]
  },
  {
   "cell_type": "markdown",
   "id": "790ab623-5aaa-4055-9e33-d666ddc40cd5",
   "metadata": {},
   "source": [
    "### in python indexing of string start from 0"
   ]
  },
  {
   "cell_type": "markdown",
   "id": "4538b821-ffa7-4f11-b09c-568d38a2732f",
   "metadata": {},
   "source": [
    "## hence whenever we want any letter from string we write it like this."
   ]
  },
  {
   "cell_type": "code",
   "execution_count": 18,
   "id": "bf8a030f-7130-435d-8d21-ca62bd54932a",
   "metadata": {},
   "outputs": [
    {
     "name": "stdout",
     "output_type": "stream",
     "text": [
      "s\n"
     ]
    }
   ],
   "source": [
    "name=\"sakshi\"\n",
    "print(name[0])"
   ]
  },
  {
   "cell_type": "code",
   "execution_count": 19,
   "id": "d9aacbeb-b121-4769-b16b-75ff1f4671d7",
   "metadata": {},
   "outputs": [
    {
     "name": "stdout",
     "output_type": "stream",
     "text": [
      "h\n"
     ]
    }
   ],
   "source": [
    "print(name[4])"
   ]
  },
  {
   "cell_type": "markdown",
   "id": "a4b2d766-bc4d-47c4-b498-19fcad504e24",
   "metadata": {},
   "source": [
    "### slicing"
   ]
  },
  {
   "cell_type": "markdown",
   "id": "805516fc-76c5-4745-87af-40d28d1722fe",
   "metadata": {},
   "source": [
    "##### whenever we want to extract two or more than two elements we do this type of programming."
   ]
  },
  {
   "cell_type": "code",
   "execution_count": 6,
   "id": "fef16a06-cb17-4bcf-ac8c-d8d0dfe0fd92",
   "metadata": {},
   "outputs": [
    {
     "name": "stdout",
     "output_type": "stream",
     "text": [
      "sadhab\n"
     ]
    }
   ],
   "source": [
    "name =\"sadhabhavna\"\n",
    "print(name[0:6])"
   ]
  },
  {
   "cell_type": "code",
   "execution_count": 7,
   "id": "b3a835ac-1dc2-450e-8fa6-6aff62b1f0b0",
   "metadata": {},
   "outputs": [
    {
     "name": "stdout",
     "output_type": "stream",
     "text": [
      "dhabha\n"
     ]
    }
   ],
   "source": [
    "print(name[2:8])"
   ]
  },
  {
   "cell_type": "code",
   "execution_count": 11,
   "id": "bd8bf853-bdf3-4de6-8b5b-562f1c4571e6",
   "metadata": {},
   "outputs": [
    {
     "name": "stdout",
     "output_type": "stream",
     "text": [
      "sadhabhavna\n"
     ]
    }
   ],
   "source": [
    "print(name[:11])"
   ]
  },
  {
   "cell_type": "code",
   "execution_count": 12,
   "id": "88cca35c-0145-4b6d-8009-b3f2fb27ac4b",
   "metadata": {},
   "outputs": [
    {
     "name": "stdout",
     "output_type": "stream",
     "text": [
      "sadhabhavna\n"
     ]
    }
   ],
   "source": [
    "print(name[0:])"
   ]
  },
  {
   "cell_type": "markdown",
   "id": "e2862787-c202-49a0-b951-f5f8bde4701e",
   "metadata": {},
   "source": [
    "### negative indices"
   ]
  },
  {
   "cell_type": "markdown",
   "id": "3bcb4477-01b2-42d2-a69f-1011b7b40f67",
   "metadata": {},
   "source": [
    "### it does indexing with negative numbers and start from back"
   ]
  },
  {
   "cell_type": "code",
   "execution_count": 13,
   "id": "74f35157-2414-4667-bd1d-13f1c90cf47b",
   "metadata": {},
   "outputs": [
    {
     "name": "stdout",
     "output_type": "stream",
     "text": [
      "ksh\n"
     ]
    }
   ],
   "source": [
    "name=\"sakshi\"\n",
    "print(name[-4:-1])"
   ]
  },
  {
   "cell_type": "code",
   "execution_count": 17,
   "id": "1de2c8e0-aeed-44d5-8bf6-876eff84294e",
   "metadata": {},
   "outputs": [
    {
     "name": "stdout",
     "output_type": "stream",
     "text": [
      "s\n"
     ]
    }
   ],
   "source": [
    "print(name[-3:-2])"
   ]
  },
  {
   "cell_type": "markdown",
   "id": "f4d3e19b-3eca-48c0-a239-7a557a6a0243",
   "metadata": {},
   "source": [
    "### slicing with skip value"
   ]
  },
  {
   "cell_type": "code",
   "execution_count": 21,
   "id": "a54a727c-ff72-4d53-b7a5-5c2880ef4ce4",
   "metadata": {},
   "outputs": [
    {
     "name": "stdout",
     "output_type": "stream",
     "text": [
      " amazingg\n"
     ]
    }
   ],
   "source": [
    "word=\" amazinggirl\"\n",
    "print(word[0:9:1])"
   ]
  },
  {
   "cell_type": "code",
   "execution_count": 22,
   "id": "d0d433a2-e24a-4c17-b795-a54b353ee631",
   "metadata": {},
   "outputs": [
    {
     "name": "stdout",
     "output_type": "stream",
     "text": [
      " mzngr\n"
     ]
    }
   ],
   "source": [
    "print(word[0:11:2])"
   ]
  },
  {
   "cell_type": "code",
   "execution_count": 23,
   "id": "66767b37-3907-4e0e-8099-d5474f544475",
   "metadata": {},
   "outputs": [
    {
     "name": "stdout",
     "output_type": "stream",
     "text": [
      " mzngr\n"
     ]
    }
   ],
   "source": [
    "print(word[0::2])"
   ]
  },
  {
   "cell_type": "markdown",
   "id": "23fae3b2-0d98-4fd8-a14c-8c9c950fb887",
   "metadata": {},
   "source": [
    "# string function"
   ]
  },
  {
   "cell_type": "markdown",
   "id": "641480fc-3322-41a7-b33f-8d74b786e594",
   "metadata": {},
   "source": [
    "#### 01.len function"
   ]
  },
  {
   "cell_type": "code",
   "execution_count": 3,
   "id": "b6ea1716-1ef1-4e11-9405-67c2072d981f",
   "metadata": {},
   "outputs": [
    {
     "name": "stdout",
     "output_type": "stream",
     "text": [
      "80\n"
     ]
    }
   ],
   "source": [
    "story=\" once upon a time there was a youtuber named harry who uploaded the python video\"\n",
    "print(len(story))"
   ]
  },
  {
   "cell_type": "markdown",
   "id": "718c930e-ac5b-4f5b-bb77-ef14544d8719",
   "metadata": {},
   "source": [
    "### 02. string endswith()"
   ]
  },
  {
   "cell_type": "code",
   "execution_count": 4,
   "id": "4a22c9c0-4691-48d3-b032-bd1e931fcdfc",
   "metadata": {},
   "outputs": [
    {
     "name": "stdout",
     "output_type": "stream",
     "text": [
      "False\n"
     ]
    }
   ],
   "source": [
    "print(story.endswith(\"wddsfhjfbsdjhfbdshj\"))"
   ]
  },
  {
   "cell_type": "code",
   "execution_count": 5,
   "id": "0492f033-9e35-4300-bed5-ed2b7e3218a6",
   "metadata": {},
   "outputs": [
    {
     "name": "stdout",
     "output_type": "stream",
     "text": [
      "True\n"
     ]
    }
   ],
   "source": [
    "print(story.endswith(\"video\"))"
   ]
  },
  {
   "cell_type": "markdown",
   "id": "f5f179ff-d196-4b40-bdb0-5b4284d370ac",
   "metadata": {},
   "source": [
    "### 03. string.count function()"
   ]
  },
  {
   "cell_type": "markdown",
   "id": "feb643c7-b1d6-48b9-bf1f-4cbfcaa85ab1",
   "metadata": {},
   "source": [
    "#### it counts the total number of letters in the string."
   ]
  },
  {
   "cell_type": "code",
   "execution_count": 6,
   "id": "f5eaac5b-630e-4565-a73a-8e8c461b932a",
   "metadata": {},
   "outputs": [
    {
     "name": "stdout",
     "output_type": "stream",
     "text": [
      "6\n"
     ]
    }
   ],
   "source": [
    "print(story.count(\"a\"))"
   ]
  },
  {
   "cell_type": "code",
   "execution_count": 7,
   "id": "00e652c0-ab90-484f-8f79-5f06a63b8791",
   "metadata": {},
   "outputs": [
    {
     "name": "stdout",
     "output_type": "stream",
     "text": [
      "2\n"
     ]
    }
   ],
   "source": [
    "print(story.count(\"the\"))"
   ]
  },
  {
   "cell_type": "markdown",
   "id": "2c88eeb8-9834-4d46-88da-01278d98b728",
   "metadata": {},
   "source": [
    "### 04.  string capitalize()"
   ]
  },
  {
   "cell_type": "code",
   "execution_count": 14,
   "id": "c60b4495-ce8f-4a4c-b37e-ff5d3743aa10",
   "metadata": {},
   "outputs": [
    {
     "name": "stdout",
     "output_type": "stream",
     "text": [
      " once upon a time there was a youtuber named harry who uploaded the python video\n"
     ]
    }
   ],
   "source": [
    "print(story.capitalize () )"
   ]
  },
  {
   "cell_type": "markdown",
   "id": "53a4e1a7-544a-4043-b135-a479e79ac2b0",
   "metadata": {},
   "source": [
    "### 05. string find(word)"
   ]
  },
  {
   "cell_type": "code",
   "execution_count": 16,
   "id": "f320498d-5bea-46d6-a1f2-8e1f1db43aa1",
   "metadata": {},
   "outputs": [
    {
     "name": "stdout",
     "output_type": "stream",
     "text": [
      "30\n"
     ]
    }
   ],
   "source": [
    "print(story.find(\"youtuber\")) #### it means youtuber string me h "
   ]
  },
  {
   "cell_type": "code",
   "execution_count": 17,
   "id": "66158bfd-0a3a-4c35-b70f-f2c34cecd873",
   "metadata": {},
   "outputs": [
    {
     "name": "stdout",
     "output_type": "stream",
     "text": [
      "-1\n"
     ]
    }
   ],
   "source": [
    "print(story.find(\"sakshi\"))##### it means sakshi string me nahi h"
   ]
  },
  {
   "cell_type": "markdown",
   "id": "e323febd-268e-479f-ad80-aa98b964be9d",
   "metadata": {},
   "source": [
    "###### agar koi word ek se jyada h toh python sirf 1st word ka position batAEGA naki whole string k word ka bataega."
   ]
  },
  {
   "cell_type": "markdown",
   "id": "74b3de29-ba51-4254-b783-6bd2baae62c6",
   "metadata": {},
   "source": [
    "### 06. string replace.( oldword newword)"
   ]
  },
  {
   "cell_type": "code",
   "execution_count": 20,
   "id": "02a2c556-ecce-469b-8ce3-8c3643695768",
   "metadata": {},
   "outputs": [
    {
     "name": "stdout",
     "output_type": "stream",
     "text": [
      " once upon a time there was a youtuber named sakshi who uploaded the python video\n"
     ]
    }
   ],
   "source": [
    "print(story.replace(\"harry\",\"sakshi\"))"
   ]
  },
  {
   "cell_type": "markdown",
   "id": "3702cb33-e43a-4445-b18d-befc769cfb48",
   "metadata": {},
   "source": [
    "## escape sequence character \"/\"."
   ]
  },
  {
   "cell_type": "code",
   "execution_count": null,
   "id": "334189ac-3b46-4093-86f3-790b62989b04",
   "metadata": {},
   "outputs": [],
   "source": [
    "introducton=\" my name is sakshi shreya \\n i belongs to bihar \\n i persuing betech from chandigarh \\n i want to.\n"
   ]
  },
  {
   "cell_type": "code",
   "execution_count": 25,
   "id": "7a1a1730-d412-4b61-ac07-ad6112eadfab",
   "metadata": {},
   "outputs": [
    {
     "name": "stdout",
     "output_type": "stream",
     "text": [
      " my name is sakshi shreya \n",
      " i belongs to bihar \n",
      " i persuing betech from chandigarh \n",
      " i want to work as data scientist.\n"
     ]
    }
   ],
   "source": [
    "c=\" my name is sakshi shreya \\n i belongs to bihar \\n i persuing betech from chandigarh \\n i want to work as data scientist.\"\n",
    "print(c)"
   ]
  },
  {
   "cell_type": "markdown",
   "id": "dda78fc0-9cf6-4d84-a4e0-89cf0b665664",
   "metadata": {},
   "source": [
    "### \\tab()"
   ]
  },
  {
   "cell_type": "code",
   "execution_count": 2,
   "id": "152e239e-5857-4af3-8809-8e829f73d311",
   "metadata": {},
   "outputs": [
    {
     "name": "stdout",
     "output_type": "stream",
     "text": [
      "my name is sakshi\n",
      " i belong to\t bihar\n"
     ]
    }
   ],
   "source": [
    "name =\"my name is sakshi\\n i belong to\\t bihar\"\n",
    "print(name)"
   ]
  },
  {
   "cell_type": "code",
   "execution_count": 4,
   "id": "244c736f-c98f-41cf-afc4-cc94b661f57d",
   "metadata": {},
   "outputs": [
    {
     "name": "stdout",
     "output_type": "stream",
     "text": [
      " my name is 'sakshi shreya'\n"
     ]
    }
   ],
   "source": [
    "profile=\" my name is \\'sakshi shreya\\'\"\n",
    "print(profile)"
   ]
  },
  {
   "cell_type": "code",
   "execution_count": 7,
   "id": "0d2745da-9719-4fa2-900e-752d801f7794",
   "metadata": {},
   "outputs": [
    {
     "name": "stdout",
     "output_type": "stream",
     "text": [
      " \\i am very good in communication\\\n"
     ]
    }
   ],
   "source": [
    "profile =\" \\\\i am very good in communication\\\\\"\n",
    "print(profile)"
   ]
  },
  {
   "cell_type": "code",
   "execution_count": null,
   "id": "5185b689-b25c-41c1-853c-c777f5bdeb07",
   "metadata": {},
   "outputs": [],
   "source": []
  },
  {
   "cell_type": "markdown",
   "id": "9c9cdff4-a78a-4651-93ac-b090e9ba5e49",
   "metadata": {},
   "source": [
    "# practice set chapter 3:-"
   ]
  },
  {
   "cell_type": "markdown",
   "id": "7458559c-cd75-4d7f-bfde-f4faea9c23e5",
   "metadata": {},
   "source": [
    "### Q.1 write a python program to display a user entered name followed by good afternoon using input function()"
   ]
  },
  {
   "cell_type": "code",
   "execution_count": 10,
   "id": "5949ebfc-63b6-4db2-bab8-b46d48340a85",
   "metadata": {},
   "outputs": [
    {
     "name": "stdin",
     "output_type": "stream",
     "text": [
      "enter your name sakshi\n"
     ]
    },
    {
     "name": "stdout",
     "output_type": "stream",
     "text": [
      " Good Afternoon sakshi\n"
     ]
    }
   ],
   "source": [
    "name=input(\"enter your name\")\n",
    "a=\" Good Afternoon \"\n",
    "print(a+name)"
   ]
  },
  {
   "cell_type": "markdown",
   "id": "f7ef2235-311a-4db8-8901-e8d996878a5b",
   "metadata": {},
   "source": [
    "### Q.2 write a program to fill in a letter template given below with name and date."
   ]
  },
  {
   "cell_type": "code",
   "execution_count": 20,
   "id": "262dfd6f-fdec-4eb1-a6f8-1112c8e35d76",
   "metadata": {},
   "outputs": [
    {
     "name": "stdin",
     "output_type": "stream",
     "text": [
      "enter your name:  Sakshi Shreya\n",
      "enter date:  15 march 2023\n"
     ]
    },
    {
     "name": "stdout",
     "output_type": "stream",
     "text": [
      "\n",
      "dear Sakshi Shreya,\n",
      "good morning.\n",
      "hope you are good enough.\n",
      "i am glad to tell you that\n",
      "you are selected!\n",
      "\n",
      " Date: 15 march 2023\n",
      " \n"
     ]
    }
   ],
   "source": [
    "letter= '''\n",
    "dear <|name|>,\n",
    "good morning.\n",
    "hope you are good enough.\n",
    "i am glad to tell you that\n",
    "you are selected!\n",
    "\n",
    " Date: <|date|>\n",
    " ''' \n",
    "name=input(\"enter your name: \")\n",
    "date =input(\"enter date: \")\n",
    "letter=letter.replace(\"<|name|>\",name)\n",
    "letter=letter.replace(\"<|date|>\", date)\n",
    "print(letter)"
   ]
  },
  {
   "cell_type": "code",
   "execution_count": 2,
   "id": "b2a7a3a8-f6b7-459e-bad9-405f9d7e1caa",
   "metadata": {},
   "outputs": [
    {
     "name": "stdin",
     "output_type": "stream",
     "text": [
      "enter your name kk madhav\n",
      "enter date 19 october\n",
      "enter time 5 o clock\n"
     ]
    },
    {
     "name": "stdout",
     "output_type": "stream",
     "text": [
      " \n",
      "\n",
      "Dear kk madhav,\n",
      "\n",
      "good morning,\n",
      "i hope you are good,\n",
      "i invite you to join my birthday party,\n",
      "date: 19 october\n",
      "time: 5 o clock\n",
      "\n"
     ]
    }
   ],
   "source": [
    " invetation =''' \n",
    " \n",
    " Dear <|name|>,\n",
    " \n",
    " good morning,\n",
    " i hope you are good,\n",
    " i invite you to join my birthday party,\n",
    " date: <|date|>\n",
    " time: <|time|>\n",
    " '''\n",
    "name=input(\"enter your name\")\n",
    "date=input(\"enter date\")\n",
    "time=input(\"enter time\")\n",
    "invetation=invetation.replace(\"<|name|>\", name)\n",
    "invetation=invetation.replace(\"<|date|>\", date)\n",
    "invetation=invetation.replace(\"<|time|>\", time)\n",
    "print(invetation)"
   ]
  },
  {
   "cell_type": "markdown",
   "id": "450f50da-f506-464d-82f7-94bd73852870",
   "metadata": {},
   "source": [
    "### Q.3 write a program to detect double spaces in a string."
   ]
  },
  {
   "cell_type": "code",
   "execution_count": 2,
   "id": "59b8bdb5-ccf4-42d2-be58-15f36a531d0e",
   "metadata": {},
   "outputs": [
    {
     "name": "stdout",
     "output_type": "stream",
     "text": [
      "35\n"
     ]
    }
   ],
   "source": [
    "string=\" this is the string with the double  spaces.\"\n",
    "doublespaces=string.find(\"  \")\n",
    "print(doublespaces)"
   ]
  },
  {
   "cell_type": "code",
   "execution_count": 3,
   "id": "2d7e9552-0c5c-4110-9256-883a927edb03",
   "metadata": {},
   "outputs": [
    {
     "name": "stdout",
     "output_type": "stream",
     "text": [
      "-1\n"
     ]
    }
   ],
   "source": [
    "triplespaces=string.find(\"   \")\n",
    "print(triplespaces)"
   ]
  },
  {
   "cell_type": "markdown",
   "id": "d3467118-9882-4018-9537-7f7d71fe0aa5",
   "metadata": {},
   "source": [
    "### Q.4 replace the double spaces from the problem 3 with the single spaces."
   ]
  },
  {
   "cell_type": "code",
   "execution_count": 4,
   "id": "2e7b41ff-fd7f-4081-a62e-156aa134421c",
   "metadata": {},
   "outputs": [
    {
     "name": "stdout",
     "output_type": "stream",
     "text": [
      " this is the string with the double spaces.\n"
     ]
    }
   ],
   "source": [
    "doublespaces=string.replace(\"  \",\" \")\n",
    "print(doublespaces)"
   ]
  },
  {
   "cell_type": "markdown",
   "id": "1b60c445-59fa-4c49-89c6-87c0636a7405",
   "metadata": {},
   "source": [
    "### Q.5 write a program to format the following letter using escape sequence characters."
   ]
  },
  {
   "cell_type": "code",
   "execution_count": 5,
   "id": "88e0d4db-8e5e-4326-9241-09e6253c457b",
   "metadata": {},
   "outputs": [
    {
     "name": "stdout",
     "output_type": "stream",
     "text": [
      " dear sakshi, \n",
      " this python course is very helpful, \n",
      " i am glad that i can acces this course.\n",
      " thanks regards!...\n"
     ]
    }
   ],
   "source": [
    "letter=\" dear sakshi, \\n this python course is very helpful, \\n i am glad that i can acces this course.\\n thanks regards!...\"\n",
    "print(letter)"
   ]
  },
  {
   "cell_type": "code",
   "execution_count": null,
   "id": "7aeca847-ba60-4dc5-b123-41735c2dfce8",
   "metadata": {},
   "outputs": [],
   "source": []
  },
  {
   "cell_type": "code",
   "execution_count": null,
   "id": "1bf449d6-e29a-44ac-b88f-89c996c12dc7",
   "metadata": {},
   "outputs": [],
   "source": []
  },
  {
   "cell_type": "code",
   "execution_count": null,
   "id": "5dcb8d40-4376-495e-8caa-fa3271c891e1",
   "metadata": {},
   "outputs": [],
   "source": []
  },
  {
   "cell_type": "code",
   "execution_count": null,
   "id": "d87578bd-21dd-415c-b859-d25b651fff9c",
   "metadata": {},
   "outputs": [],
   "source": []
  },
  {
   "cell_type": "code",
   "execution_count": null,
   "id": "5670a63b-3567-4230-867b-66f3afb1cae4",
   "metadata": {},
   "outputs": [],
   "source": []
  }
 ],
 "metadata": {
  "kernelspec": {
   "display_name": "Python 3 (ipykernel)",
   "language": "python",
   "name": "python3"
  },
  "language_info": {
   "codemirror_mode": {
    "name": "ipython",
    "version": 3
   },
   "file_extension": ".py",
   "mimetype": "text/x-python",
   "name": "python",
   "nbconvert_exporter": "python",
   "pygments_lexer": "ipython3",
   "version": "3.10.8"
  }
 },
 "nbformat": 4,
 "nbformat_minor": 5
}
