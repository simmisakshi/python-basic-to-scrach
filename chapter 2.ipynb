{
 "cells": [
  {
   "cell_type": "markdown",
   "id": "f2ffe756-f2a4-46ff-999b-a6e42a1c4989",
   "metadata": {},
   "source": [
    "## variables"
   ]
  },
  {
   "cell_type": "markdown",
   "id": "5efe4008-4cd9-46c2-9b97-469d4f154b3e",
   "metadata": {},
   "source": [
    "## integer"
   ]
  },
  {
   "cell_type": "code",
   "execution_count": 1,
   "id": "05f0c0de-2703-4064-95f0-5ea41c322550",
   "metadata": {},
   "outputs": [
    {
     "name": "stdout",
     "output_type": "stream",
     "text": [
      "123\n"
     ]
    }
   ],
   "source": [
    "a=123\n",
    "print(a)"
   ]
  },
  {
   "cell_type": "markdown",
   "id": "1fae5299-9069-48a5-81bd-85eecb779933",
   "metadata": {},
   "source": [
    "###  string"
   ]
  },
  {
   "cell_type": "code",
   "execution_count": 3,
   "id": "3a5dcaab-2bac-437b-8982-b8054f25ec1c",
   "metadata": {},
   "outputs": [
    {
     "name": "stdout",
     "output_type": "stream",
     "text": [
      "sakshi\n"
     ]
    }
   ],
   "source": [
    "a=\"sakshi\"\n",
    "print(a)"
   ]
  },
  {
   "cell_type": "code",
   "execution_count": 4,
   "id": "dd1a673a-ba23-4cc0-af0f-ea69719918db",
   "metadata": {},
   "outputs": [
    {
     "name": "stdout",
     "output_type": "stream",
     "text": [
      "12.4\n"
     ]
    }
   ],
   "source": [
    "a=12.4\n",
    "print(a)"
   ]
  },
  {
   "cell_type": "code",
   "execution_count": null,
   "id": "b773b168-9753-4ff5-8ff2-b24a6eb14a6e",
   "metadata": {},
   "outputs": [],
   "source": []
  },
  {
   "cell_type": "markdown",
   "id": "0af11f2c-994d-4789-a6d0-a249aec51dc5",
   "metadata": {},
   "source": [
    "# operators"
   ]
  },
  {
   "cell_type": "markdown",
   "id": "e882ef6c-bd06-4aff-aa85-c5ae65b7541e",
   "metadata": {},
   "source": [
    "### arithmetic operators"
   ]
  },
  {
   "cell_type": "code",
   "execution_count": 5,
   "id": "5be48f9e-57d6-49fa-a5e9-e8a691946f96",
   "metadata": {},
   "outputs": [
    {
     "name": "stdout",
     "output_type": "stream",
     "text": [
      "the value of a+b is 77\n"
     ]
    }
   ],
   "source": [
    "a=45\n",
    "b=32\n",
    "print(\"the value of a+b is\", a+b)"
   ]
  },
  {
   "cell_type": "markdown",
   "id": "be2c26d0-c4d6-4344-88a0-298a1d97f69d",
   "metadata": {},
   "source": [
    "### assignment operators"
   ]
  },
  {
   "cell_type": "code",
   "execution_count": 8,
   "id": "8292f3fc-fcbf-4849-aa71-3278d3f8dcb2",
   "metadata": {},
   "outputs": [
    {
     "name": "stdout",
     "output_type": "stream",
     "text": [
      "50\n"
     ]
    }
   ],
   "source": [
    "a=45\n",
    "a+=5\n",
    "print(a)"
   ]
  },
  {
   "cell_type": "code",
   "execution_count": 9,
   "id": "aa8ed234-bd10-4263-9694-43bb5c3b2eaa",
   "metadata": {},
   "outputs": [
    {
     "name": "stdout",
     "output_type": "stream",
     "text": [
      "45\n"
     ]
    }
   ],
   "source": [
    "a-=5\n",
    "print(a)"
   ]
  },
  {
   "cell_type": "code",
   "execution_count": 10,
   "id": "7cba0efe-2054-40e6-836e-461383c290c1",
   "metadata": {},
   "outputs": [
    {
     "name": "stdout",
     "output_type": "stream",
     "text": [
      "225\n"
     ]
    }
   ],
   "source": [
    "a*=5\n",
    "print(a)"
   ]
  },
  {
   "cell_type": "code",
   "execution_count": 11,
   "id": "c6fa9492-3a02-4220-bc85-4f87e67d8d44",
   "metadata": {},
   "outputs": [
    {
     "name": "stdout",
     "output_type": "stream",
     "text": [
      "45.0\n"
     ]
    }
   ],
   "source": [
    "a/=5\n",
    "print(a)"
   ]
  },
  {
   "cell_type": "markdown",
   "id": "57a64a1f-86fd-44fb-8894-ed619f9327fe",
   "metadata": {},
   "source": [
    "### comparison operators"
   ]
  },
  {
   "cell_type": "code",
   "execution_count": 13,
   "id": "8588e384-177d-423d-be70-ce52e34f952f",
   "metadata": {},
   "outputs": [
    {
     "name": "stdout",
     "output_type": "stream",
     "text": [
      "False\n"
     ]
    }
   ],
   "source": [
    "a=(5>43)\n",
    "print(a)"
   ]
  },
  {
   "cell_type": "code",
   "execution_count": 14,
   "id": "6e610559-9d85-42b1-95f1-a357480408f1",
   "metadata": {},
   "outputs": [
    {
     "name": "stdout",
     "output_type": "stream",
     "text": [
      "True\n"
     ]
    }
   ],
   "source": [
    "a=(5<45)\n",
    "print(a)"
   ]
  },
  {
   "cell_type": "markdown",
   "id": "bec809d4-6b16-43b0-9b89-86ae11786c12",
   "metadata": {},
   "source": [
    "### logical operators"
   ]
  },
  {
   "cell_type": "code",
   "execution_count": 5,
   "id": "62a23404-7096-466a-9da0-8dc92841e4a0",
   "metadata": {},
   "outputs": [
    {
     "name": "stdout",
     "output_type": "stream",
     "text": [
      "the  value of bool1 and bool2 is False\n"
     ]
    }
   ],
   "source": [
    "bool1 = True\n",
    "bool2 = False\n",
    "print(\"the  value of bool1 and bool2 is\",(bool1 and bool2))"
   ]
  },
  {
   "cell_type": "code",
   "execution_count": 6,
   "id": "65e074c6-a71a-435e-b807-e6f58091a66f",
   "metadata": {},
   "outputs": [
    {
     "name": "stdout",
     "output_type": "stream",
     "text": [
      " the value of bool1 or bool2 is True\n"
     ]
    }
   ],
   "source": [
    "print(\" the value of bool1 or bool2 is\", (bool1 or bool2))"
   ]
  },
  {
   "cell_type": "code",
   "execution_count": 7,
   "id": "5228a3f9-4ed8-4163-9f70-fcf5e0b86fc2",
   "metadata": {},
   "outputs": [
    {
     "name": "stdout",
     "output_type": "stream",
     "text": [
      "the value of not bool2 is True\n"
     ]
    }
   ],
   "source": [
    "print(\"the value of not bool2 is\", (not bool2))"
   ]
  },
  {
   "cell_type": "code",
   "execution_count": null,
   "id": "26d2276b-86d1-46fb-b2dd-8ef2a7ed9407",
   "metadata": {},
   "outputs": [],
   "source": []
  },
  {
   "cell_type": "markdown",
   "id": "d315f75d-eb0f-4068-b64c-9fb926a0b9f9",
   "metadata": {},
   "source": [
    "# practice set of chapter 2"
   ]
  },
  {
   "cell_type": "markdown",
   "id": "723e98f1-cee4-4fe3-99ba-bad049578216",
   "metadata": {},
   "source": [
    "### Q.1 write a pythonprogram to add two numbers."
   ]
  },
  {
   "cell_type": "code",
   "execution_count": 8,
   "id": "fd7825ef-a107-407f-b840-95ee133a4b99",
   "metadata": {},
   "outputs": [
    {
     "name": "stdout",
     "output_type": "stream",
     "text": [
      "the summation of two numbers a and b is: 79\n"
     ]
    }
   ],
   "source": [
    "a=56\n",
    "b=23\n",
    "print (\"the summation of two numbers a and b is:\" ,(a+b))"
   ]
  },
  {
   "cell_type": "markdown",
   "id": "3e475379-3c41-4e3b-acf4-781062e7c4a2",
   "metadata": {},
   "source": [
    "### q.2 write a python program to find remaindern when a number is divided by z"
   ]
  },
  {
   "cell_type": "code",
   "execution_count": 11,
   "id": "23d8f4c4-7e78-45c8-8a30-11e4ec707257",
   "metadata": {},
   "outputs": [
    {
     "name": "stdout",
     "output_type": "stream",
     "text": [
      " the remainder left when a divided by b is: 8\n"
     ]
    }
   ],
   "source": [
    "a=68\n",
    "b=12\n",
    "print(\" the remainder left when a divided by b is:\", (a % b))"
   ]
  },
  {
   "cell_type": "markdown",
   "id": "d3bf8464-01ea-48f0-a465-acbea5d6a71a",
   "metadata": {},
   "source": [
    "### q.3 check the type of the variable assigned using input () function."
   ]
  },
  {
   "cell_type": "code",
   "execution_count": 12,
   "id": "165cef14-b342-444e-b18c-b34fbb4ef1a3",
   "metadata": {},
   "outputs": [
    {
     "name": "stdin",
     "output_type": "stream",
     "text": [
      " enter your age: 20\n"
     ]
    },
    {
     "name": "stdout",
     "output_type": "stream",
     "text": [
      "20\n"
     ]
    }
   ],
   "source": [
    "d=input(\" enter your age:\")\n",
    "print(d)"
   ]
  },
  {
   "cell_type": "code",
   "execution_count": 13,
   "id": "c30da551-f3e3-423b-ae54-631cf0c9db2b",
   "metadata": {},
   "outputs": [
    {
     "name": "stdout",
     "output_type": "stream",
     "text": [
      "<class 'str'>\n"
     ]
    }
   ],
   "source": [
    "print(type(d))"
   ]
  },
  {
   "cell_type": "code",
   "execution_count": 14,
   "id": "3cf3ec2a-1ada-4416-a13a-e4959c468f74",
   "metadata": {},
   "outputs": [
    {
     "name": "stdout",
     "output_type": "stream",
     "text": [
      "<class 'int'>\n"
     ]
    }
   ],
   "source": [
    "d=int(d)\n",
    "print(type(d))"
   ]
  },
  {
   "cell_type": "markdown",
   "id": "9781594f-93dc-4241-872f-0e88ba954e9e",
   "metadata": {},
   "source": [
    "### Q.4 use comparison operators to find out whether a given variable a is greater than 'b' or not.. take a=34 and b=80"
   ]
  },
  {
   "cell_type": "code",
   "execution_count": 16,
   "id": "f407c644-3856-4ada-82bf-66f7c7221825",
   "metadata": {},
   "outputs": [
    {
     "name": "stdout",
     "output_type": "stream",
     "text": [
      " check whether a is greater then b or not : False\n"
     ]
    }
   ],
   "source": [
    "a=34\n",
    "b=80\n",
    "print(\" check whether a is greater then b or not :\", (a>b))"
   ]
  },
  {
   "cell_type": "markdown",
   "id": "1895cfd1-6086-41c3-9910-12ca42b87246",
   "metadata": {},
   "source": [
    "### Q.5 write a python program to find average of two numbers entered by user.\n"
   ]
  },
  {
   "cell_type": "code",
   "execution_count": 19,
   "id": "61f9f9e1-ecf6-42b8-9c71-61f4b820e872",
   "metadata": {},
   "outputs": [
    {
     "name": "stdin",
     "output_type": "stream",
     "text": [
      " enter the 1st number 30\n",
      " enter the 2nd number 50\n"
     ]
    },
    {
     "name": "stdout",
     "output_type": "stream",
     "text": [
      " average of two given numbers: 40.0\n"
     ]
    }
   ],
   "source": [
    "a=input(\" enter the 1st number\")\n",
    "a=int(a)\n",
    "b=input(\" enter the 2nd number\")\n",
    "b=int(b)\n",
    "print(\" average of two given numbers:\", ((a+b)/2))"
   ]
  },
  {
   "cell_type": "markdown",
   "id": "e6b63100-3f45-486f-9420-f1bf6ce36310",
   "metadata": {},
   "source": [
    "### Q.6 write a python program to calculate square of a number entered by the user."
   ]
  },
  {
   "cell_type": "code",
   "execution_count": 23,
   "id": "a5f5661f-870e-4454-b57a-fd2cfe45e9f7",
   "metadata": {},
   "outputs": [
    {
     "name": "stdin",
     "output_type": "stream",
     "text": [
      " enter your number: 5678567456345\n"
     ]
    },
    {
     "name": "stdout",
     "output_type": "stream",
     "text": [
      " the square of a number: 32246128356260523480759025\n"
     ]
    }
   ],
   "source": [
    "a=input(\" enter your number:\")\n",
    "a=int(a)\n",
    "print (\" the square of a number:\", (a*a))"
   ]
  },
  {
   "cell_type": "markdown",
   "id": "7ead3af9-40aa-4f83-9c5e-21366ca9ad44",
   "metadata": {},
   "source": [
    "### Q.7 write a python program to calculate the cube of a number entered by hte user."
   ]
  },
  {
   "cell_type": "code",
   "execution_count": 25,
   "id": "2ea7df2a-27e5-4d51-8ce6-1d9a939be3ef",
   "metadata": {},
   "outputs": [
    {
     "name": "stdin",
     "output_type": "stream",
     "text": [
      "enter your number: 3\n"
     ]
    },
    {
     "name": "stdout",
     "output_type": "stream",
     "text": [
      " the cube of a given number is: 27\n"
     ]
    }
   ],
   "source": [
    "b=input( \"enter your number:\")\n",
    "b=int(b)\n",
    "print(\" the cube of a given number is:\", (b*b*b))"
   ]
  }
 ],
 "metadata": {
  "kernelspec": {
   "display_name": "Python 3 (ipykernel)",
   "language": "python",
   "name": "python3"
  },
  "language_info": {
   "codemirror_mode": {
    "name": "ipython",
    "version": 3
   },
   "file_extension": ".py",
   "mimetype": "text/x-python",
   "name": "python",
   "nbconvert_exporter": "python",
   "pygments_lexer": "ipython3",
   "version": "3.10.8"
  }
 },
 "nbformat": 4,
 "nbformat_minor": 5
}
