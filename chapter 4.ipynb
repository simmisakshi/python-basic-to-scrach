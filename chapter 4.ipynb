{
 "cells": [
  {
   "cell_type": "markdown",
   "id": "d26fd458-5924-45bc-b3f1-a55ae4759a33",
   "metadata": {},
   "source": [
    "# chapter 04 ( list and tuples)\n",
    "#### list are the container to store a set of values of any data type.\n",
    "### example:- [ \" apple\", \"akash\", \"rohan\", 7, false]\n",
    "#### list are always orderd"
   ]
  },
  {
   "cell_type": "markdown",
   "id": "52447072-31f6-4c7d-bf93-9a09a597d64a",
   "metadata": {},
   "source": [
    "#### we can create the list using differenr types of data types."
   ]
  },
  {
   "cell_type": "code",
   "execution_count": 2,
   "id": "d010903d-40a5-4b2c-ab96-9c89710d44c6",
   "metadata": {},
   "outputs": [
    {
     "name": "stdout",
     "output_type": "stream",
     "text": [
      "[1, 'sakshi', 2, 'shreya', 3, 'kajal']\n"
     ]
    }
   ],
   "source": [
    "a=[1,\"sakshi\",2,\"shreya\",3,\"kajal\"]\n",
    "print(a)"
   ]
  },
  {
   "cell_type": "markdown",
   "id": "4eb20ccb-e66f-40fb-b4fc-67e1bd7e7605",
   "metadata": {},
   "source": [
    "#### list me v index 0 se start hoti hai."
   ]
  },
  {
   "cell_type": "markdown",
   "id": "953c3a62-4062-45b7-9da5-b8f62a3fefb6",
   "metadata": {},
   "source": [
    "### create  list using [ ] seperated by commas. And print the list using print function()"
   ]
  },
  {
   "cell_type": "code",
   "execution_count": 6,
   "id": "66d29b9a-62fe-40c0-a624-7f3ae55997e9",
   "metadata": {},
   "outputs": [
    {
     "name": "stdout",
     "output_type": "stream",
     "text": [
      "1\n"
     ]
    }
   ],
   "source": [
    "print(a[0])"
   ]
  },
  {
   "cell_type": "code",
   "execution_count": 4,
   "id": "392a7c24-c56d-47b1-b755-b36659305824",
   "metadata": {},
   "outputs": [
    {
     "name": "stdout",
     "output_type": "stream",
     "text": [
      "3\n"
     ]
    }
   ],
   "source": [
    "print(a[4])"
   ]
  },
  {
   "cell_type": "code",
   "execution_count": 5,
   "id": "cab784e4-f63a-4afd-9bb1-27ce268eaf85",
   "metadata": {},
   "outputs": [
    {
     "name": "stdout",
     "output_type": "stream",
     "text": [
      "kajal\n"
     ]
    }
   ],
   "source": [
    "print(a[5])"
   ]
  },
  {
   "cell_type": "markdown",
   "id": "37a4dae1-c563-49c7-b2d7-33ec5e8a3e58",
   "metadata": {},
   "source": [
    "### we can also change the element of list using by the following way."
   ]
  },
  {
   "cell_type": "markdown",
   "id": "5ce66425-9dd1-49b1-b31f-27abb788f88e",
   "metadata": {},
   "source": [
    "##### access using indexed using a[0], a[4], a[2],"
   ]
  },
  {
   "cell_type": "code",
   "execution_count": 9,
   "id": "d2f0dbc1-23bc-4631-a65d-313a8c6db1ac",
   "metadata": {},
   "outputs": [],
   "source": [
    "a[0]=5"
   ]
  },
  {
   "cell_type": "code",
   "execution_count": 10,
   "id": "3663747e-818e-40cc-a551-494abe62f0ec",
   "metadata": {},
   "outputs": [
    {
     "name": "stdout",
     "output_type": "stream",
     "text": [
      "[5, 'sakshi', 2, 'shreya', 3, 'kajal']\n"
     ]
    }
   ],
   "source": [
    "print(a)"
   ]
  },
  {
   "cell_type": "code",
   "execution_count": 11,
   "id": "e85019de-fb35-42d9-836c-a01bbe91165e",
   "metadata": {},
   "outputs": [
    {
     "name": "stdout",
     "output_type": "stream",
     "text": [
      "[5, 'sakshi', 'shivangi', 'shreya', 3, 'kajal']\n"
     ]
    }
   ],
   "source": [
    "a[2]=\"shivangi\"\n",
    "print(a)"
   ]
  },
  {
   "cell_type": "code",
   "execution_count": 12,
   "id": "e48a9977-3484-4fab-b428-d484696034ee",
   "metadata": {},
   "outputs": [
    {
     "name": "stdout",
     "output_type": "stream",
     "text": [
      "['priya', 'sakshi', 'shivangi', 'shreya', 3, 'kajal']\n"
     ]
    }
   ],
   "source": [
    "a[0]=\"priya\"\n",
    "print(a)"
   ]
  },
  {
   "cell_type": "markdown",
   "id": "924ea0de-674b-4e47-ac89-f9bbbf16ea4b",
   "metadata": {},
   "source": [
    "### list slicing"
   ]
  },
  {
   "cell_type": "code",
   "execution_count": 13,
   "id": "e607dffc-d5b6-4638-9a16-d54f5e4dc086",
   "metadata": {},
   "outputs": [
    {
     "name": "stdout",
     "output_type": "stream",
     "text": [
      "['priya', 'sakshi', 'shivangi', 'shreya']\n"
     ]
    }
   ],
   "source": [
    "print(a[0:4])"
   ]
  },
  {
   "cell_type": "code",
   "execution_count": 14,
   "id": "3ab5b335-3be9-4eb2-9958-9773f0afdd75",
   "metadata": {},
   "outputs": [
    {
     "name": "stdout",
     "output_type": "stream",
     "text": [
      "['priya', 'shivangi', 3]\n"
     ]
    }
   ],
   "source": [
    "print(a[0:6:2])"
   ]
  },
  {
   "cell_type": "markdown",
   "id": "2332b7e6-18c0-424d-9ee7-4aac2515a24e",
   "metadata": {},
   "source": [
    "# list methods"
   ]
  },
  {
   "cell_type": "code",
   "execution_count": 4,
   "id": "d0dafd26-5054-4e54-9336-7d9e3dd6d049",
   "metadata": {},
   "outputs": [],
   "source": [
    "L1= [87,34,1,4,56,76,34,74,9,86]\n"
   ]
  },
  {
   "cell_type": "markdown",
   "id": "a8817934-02cb-461c-917f-4119e55c4043",
   "metadata": {},
   "source": [
    "### List sorting"
   ]
  },
  {
   "cell_type": "code",
   "execution_count": 5,
   "id": "614e60ab-c744-4612-b8db-4f4a4bfe1ec6",
   "metadata": {},
   "outputs": [
    {
     "name": "stdout",
     "output_type": "stream",
     "text": [
      "[1, 4, 9, 34, 34, 56, 74, 76, 86, 87]\n"
     ]
    }
   ],
   "source": [
    "L1.sort()\n",
    "print(L1)"
   ]
  },
  {
   "cell_type": "markdown",
   "id": "d3d8ed20-670f-47e1-b7d7-8bbc83827592",
   "metadata": {},
   "source": [
    "### list reversing"
   ]
  },
  {
   "cell_type": "code",
   "execution_count": 27,
   "id": "58291b16-a7ee-4b2c-9c4b-95331c7f1bc2",
   "metadata": {},
   "outputs": [
    {
     "name": "stdout",
     "output_type": "stream",
     "text": [
      "[87, 86, 76, 74, 56, 34, 34, 9, 4, 1, 66, 66, 5, 5]\n"
     ]
    }
   ],
   "source": [
    "L1.reverse()\n",
    "print(L1)"
   ]
  },
  {
   "cell_type": "markdown",
   "id": "8261c21f-cb4a-4375-9ff8-fe34c4fe2df8",
   "metadata": {},
   "source": [
    "### list append"
   ]
  },
  {
   "cell_type": "markdown",
   "id": "e3a04604-c504-492d-a625-29c6bd1cd9b2",
   "metadata": {},
   "source": [
    "###### append at the ends  of the list ( appends means is to add something at the end of the written document)"
   ]
  },
  {
   "cell_type": "code",
   "execution_count": 7,
   "id": "c123c5eb-ae05-4265-bea1-1015ced4db76",
   "metadata": {},
   "outputs": [
    {
     "name": "stdout",
     "output_type": "stream",
     "text": [
      "[1, 4, 9, 34, 34, 56, 74, 76, 86, 87, 5]\n"
     ]
    }
   ],
   "source": [
    "L1.append(5)\n",
    "print(L1)"
   ]
  },
  {
   "cell_type": "markdown",
   "id": "890b1f6f-512a-45ef-bd70-56d47e14dc8f",
   "metadata": {},
   "source": [
    "### list inserting"
   ]
  },
  {
   "cell_type": "code",
   "execution_count": 9,
   "id": "a26e9de5-11f8-42f6-aa4f-de61d876ff09",
   "metadata": {},
   "outputs": [
    {
     "name": "stdout",
     "output_type": "stream",
     "text": [
      "[1, 4, 9, 0, 0, 34, 34, 56, 74, 76, 86, 87, 5]\n"
     ]
    }
   ],
   "source": [
    "L1.insert(3,0)\n",
    "print(L1)"
   ]
  },
  {
   "cell_type": "code",
   "execution_count": 30,
   "id": "338fa4f3-a273-4287-99c7-4626531f3e3f",
   "metadata": {},
   "outputs": [
    {
     "name": "stdout",
     "output_type": "stream",
     "text": [
      "[333, 87, 86, 76, 0, 74, 56, 34, 34, 9, 4, 1, 66, 66, 5, 5, 5]\n"
     ]
    }
   ],
   "source": [
    "L1.insert(0,333)\n",
    "print(L1)"
   ]
  },
  {
   "cell_type": "markdown",
   "id": "f86bb97f-f402-4ce6-b2b5-774688be26bb",
   "metadata": {},
   "source": [
    "### list poping\n",
    "###### ( it will delet the element form the given indexed)"
   ]
  },
  {
   "cell_type": "code",
   "execution_count": 12,
   "id": "b7665de9-f8d6-4848-a2e0-723c63ad7059",
   "metadata": {},
   "outputs": [
    {
     "name": "stdout",
     "output_type": "stream",
     "text": [
      "[1, 4, 0, 34, 34, 56, 74, 76, 86, 87, 5]\n"
     ]
    }
   ],
   "source": [
    "L1.pop(2) ## remove element at index 2\n",
    "print(L1)"
   ]
  },
  {
   "cell_type": "markdown",
   "id": "e827801f-3d24-4777-b3af-6c3e77a1ff90",
   "metadata": {},
   "source": [
    "### list removing"
   ]
  },
  {
   "cell_type": "code",
   "execution_count": 14,
   "id": "c511ee30-8a7f-433f-a841-2e2aff922c87",
   "metadata": {},
   "outputs": [
    {
     "name": "stdout",
     "output_type": "stream",
     "text": [
      "[1, 4, 0, 34, 34, 56, 74, 76, 86, 5]\n"
     ]
    }
   ],
   "source": [
    "L1.remove(87) ### remove the element 87 from the list\n",
    "print(L1)"
   ]
  },
  {
   "cell_type": "code",
   "execution_count": 15,
   "id": "5ba7ddb4-67fc-4675-a56e-5fa94a78cb12",
   "metadata": {},
   "outputs": [
    {
     "name": "stdout",
     "output_type": "stream",
     "text": [
      "[1, 4, 0, 34, 34, 56, 74, 76, 86]\n"
     ]
    }
   ],
   "source": [
    "L1.remove(5)\n",
    "print(L1)"
   ]
  },
  {
   "cell_type": "code",
   "execution_count": null,
   "id": "5e6f4cb7-6fc8-49ea-9b80-4a7d63521db0",
   "metadata": {},
   "outputs": [],
   "source": []
  },
  {
   "cell_type": "markdown",
   "id": "c44b7da7-cf39-4359-9a4e-da998273bdb6",
   "metadata": {},
   "source": [
    "# TUPLES"
   ]
  },
  {
   "cell_type": "markdown",
   "id": "39dc1332-fe54-4027-8739-d3741df700e6",
   "metadata": {},
   "source": [
    "#### creating the tuples using parenthesis ()"
   ]
  },
  {
   "cell_type": "code",
   "execution_count": 19,
   "id": "95e29a53-950f-4c65-a06b-9ccdf99a9e16",
   "metadata": {},
   "outputs": [],
   "source": [
    "t=(1,2,3,4,5,6,7,8,9)"
   ]
  },
  {
   "cell_type": "markdown",
   "id": "c503fcdb-4520-4a78-8e42-db460c39de9a",
   "metadata": {},
   "source": [
    "### printing the elements of a tuples.\n"
   ]
  },
  {
   "cell_type": "code",
   "execution_count": 20,
   "id": "8b091169-4379-4087-a9da-6a7478fa7f70",
   "metadata": {},
   "outputs": [
    {
     "name": "stdout",
     "output_type": "stream",
     "text": [
      "1\n"
     ]
    }
   ],
   "source": [
    "print(t[0])"
   ]
  },
  {
   "cell_type": "code",
   "execution_count": 22,
   "id": "80953836-2d91-432d-b1f9-7167ea74886b",
   "metadata": {},
   "outputs": [
    {
     "name": "stdout",
     "output_type": "stream",
     "text": [
      "6\n"
     ]
    }
   ],
   "source": [
    "print(t[5])"
   ]
  },
  {
   "cell_type": "markdown",
   "id": "dcafd712-5098-47c3-96aa-15c3b1fdee10",
   "metadata": {},
   "source": [
    "### we cannot change the value of tupes "
   ]
  },
  {
   "cell_type": "markdown",
   "id": "75229002-10ba-446c-a154-fbb1191bbe6b",
   "metadata": {},
   "source": [
    "###### a tuple is an immutable data type in python (immutable means can not change)"
   ]
  },
  {
   "cell_type": "markdown",
   "id": "4462ca2e-7760-402c-9830-197835cd1f78",
   "metadata": {},
   "source": [
    " ###### a=()  - empty tuple\n",
    "  ##### a=(1 ,)   :- tuple with only one element needs a comma \n",
    "##### a=(1,2,4,5) :- tuple with more than one element\n",
    "### the value of tuple cant be change or altered or manipulated"
   ]
  },
  {
   "cell_type": "code",
   "execution_count": 1,
   "id": "5d043fc7-1ce2-4c06-9766-9a7c44ef638e",
   "metadata": {},
   "outputs": [
    {
     "name": "stdout",
     "output_type": "stream",
     "text": [
      "()\n"
     ]
    }
   ],
   "source": [
    "t=()\n",
    "print(t) ##  empty tuple"
   ]
  },
  {
   "cell_type": "code",
   "execution_count": 2,
   "id": "50e7ce96-bf03-4eec-9b1b-e0547bcfa70a",
   "metadata": {},
   "outputs": [
    {
     "name": "stdout",
     "output_type": "stream",
     "text": [
      "1\n"
     ]
    }
   ],
   "source": [
    "t1=(1)\n",
    "print(t1) ## wrong way to declare a tuple with single element.."
   ]
  },
  {
   "cell_type": "code",
   "execution_count": 3,
   "id": "b9b6e3e1-b133-4f63-8070-3814a66cb966",
   "metadata": {},
   "outputs": [
    {
     "name": "stdout",
     "output_type": "stream",
     "text": [
      "(1,)\n"
     ]
    }
   ],
   "source": [
    "t1=(1,)\n",
    "print(t1) ### right way to declare a tuple with single element"
   ]
  },
  {
   "cell_type": "markdown",
   "id": "24df820a-b7cc-4f67-ba48-100012af7708",
   "metadata": {},
   "source": [
    "### tuple method"
   ]
  },
  {
   "cell_type": "markdown",
   "id": "917eedfa-d83a-4fc2-b5eb-e31abf3da5d6",
   "metadata": {},
   "source": [
    "#### tuple count method"
   ]
  },
  {
   "cell_type": "code",
   "execution_count": 11,
   "id": "b86e5dba-2612-4cd1-8af2-088e8c17a9b5",
   "metadata": {},
   "outputs": [
    {
     "name": "stdout",
     "output_type": "stream",
     "text": [
      "0\n"
     ]
    }
   ],
   "source": [
    "a=(7,4,8,2,3,5,4)\n",
    "print(a.count(1))"
   ]
  },
  {
   "cell_type": "code",
   "execution_count": 13,
   "id": "f88f4cff-1908-426a-84fd-43b60f615de9",
   "metadata": {},
   "outputs": [
    {
     "name": "stdout",
     "output_type": "stream",
     "text": [
      "2\n"
     ]
    }
   ],
   "source": [
    "print(a.count(4))"
   ]
  },
  {
   "cell_type": "markdown",
   "id": "4042b3f0-429d-4490-a226-b6cb3c6a0ac3",
   "metadata": {},
   "source": [
    "### tuple index method"
   ]
  },
  {
   "cell_type": "code",
   "execution_count": 16,
   "id": "93326835-5eeb-4f65-a74e-76dcc7334180",
   "metadata": {},
   "outputs": [
    {
     "name": "stdout",
     "output_type": "stream",
     "text": [
      "2\n"
     ]
    }
   ],
   "source": [
    "print(a.index(8))"
   ]
  },
  {
   "cell_type": "code",
   "execution_count": 17,
   "id": "7c79264b-2c0e-471c-b17c-10203b9d831c",
   "metadata": {},
   "outputs": [
    {
     "name": "stdout",
     "output_type": "stream",
     "text": [
      "1\n"
     ]
    }
   ],
   "source": [
    "print(a.index(4))"
   ]
  },
  {
   "cell_type": "markdown",
   "id": "fdbee0f9-42db-4bf6-bbb0-4d9f67e5b6d0",
   "metadata": {},
   "source": [
    "# practice set of chapter 4 (list and tuples)"
   ]
  },
  {
   "cell_type": "markdown",
   "id": "016ee805-1700-4efd-9fb4-87faab826a89",
   "metadata": {},
   "source": [
    "##### Q.1 write a program to store seven fruits in a list entered by the user."
   ]
  },
  {
   "cell_type": "code",
   "execution_count": 23,
   "id": "5aa6652b-5961-4c7b-ba91-f959fcab16f9",
   "metadata": {},
   "outputs": [
    {
     "name": "stdin",
     "output_type": "stream",
     "text": [
      "enter your fruit number 1 banana\n"
     ]
    }
   ],
   "source": [
    "F1=input(\"enter your fruit number 1\")\n"
   ]
  },
  {
   "cell_type": "code",
   "execution_count": 24,
   "id": "5c5b9a61-931f-4e59-b1d6-f8fa64cc3f8a",
   "metadata": {},
   "outputs": [
    {
     "name": "stdin",
     "output_type": "stream",
     "text": [
      "enter your fruit number 2 apple\n"
     ]
    }
   ],
   "source": [
    "F2=input(\"enter your fruit number 2\")"
   ]
  },
  {
   "cell_type": "code",
   "execution_count": 25,
   "id": "43c5fb81-5450-44ba-ad74-72854deb8fd5",
   "metadata": {},
   "outputs": [
    {
     "name": "stdin",
     "output_type": "stream",
     "text": [
      "enter your fruit number 3 guava\n"
     ]
    }
   ],
   "source": [
    "F3=input(\"enter your fruit number 3\")\n"
   ]
  },
  {
   "cell_type": "code",
   "execution_count": 26,
   "id": "34f31ec2-ce62-4191-a391-290c1b004f21",
   "metadata": {},
   "outputs": [
    {
     "name": "stdin",
     "output_type": "stream",
     "text": [
      "enter your fruit number 4 orange\n"
     ]
    }
   ],
   "source": [
    "F4=input(\"enter your fruit number 4\")"
   ]
  },
  {
   "cell_type": "code",
   "execution_count": 27,
   "id": "95c764c1-2c99-4d62-aa46-efbd4f5d7dc9",
   "metadata": {},
   "outputs": [
    {
     "name": "stdin",
     "output_type": "stream",
     "text": [
      "enter your fruit number 5 pineapple\n"
     ]
    }
   ],
   "source": [
    "F5=input(\"enter your fruit number 5\")"
   ]
  },
  {
   "cell_type": "code",
   "execution_count": 28,
   "id": "2e7a4021-eb3c-4e5a-bc26-261df4ca82a5",
   "metadata": {},
   "outputs": [
    {
     "name": "stdin",
     "output_type": "stream",
     "text": [
      "enter your fruit number 6 blackberry\n"
     ]
    }
   ],
   "source": [
    "F6=input(\"enter your fruit number 6\")"
   ]
  },
  {
   "cell_type": "code",
   "execution_count": 29,
   "id": "936286b9-ca62-4211-a865-90649de72bc6",
   "metadata": {},
   "outputs": [
    {
     "name": "stdin",
     "output_type": "stream",
     "text": [
      "enter your fruit number 7 grapes\n"
     ]
    }
   ],
   "source": [
    "F7=input(\"enter your fruit number 7\")"
   ]
  },
  {
   "cell_type": "code",
   "execution_count": 30,
   "id": "8a267985-0561-4ad2-a63c-e3794bbd15eb",
   "metadata": {},
   "outputs": [
    {
     "name": "stdout",
     "output_type": "stream",
     "text": [
      "['banana', 'apple', 'guava', 'orange', 'pineapple', 'blackberry', 'grapes']\n"
     ]
    }
   ],
   "source": [
    "myfruitList =[F1,F2,F3,F4,F5,F6,F7]\n",
    "print(myfruitList)"
   ]
  },
  {
   "cell_type": "code",
   "execution_count": null,
   "id": "abf17596-ff93-468c-b991-bfe091cb4ea6",
   "metadata": {},
   "outputs": [],
   "source": []
  },
  {
   "cell_type": "markdown",
   "id": "61c6c89d-b582-4805-97b5-1981fc18e4d1",
   "metadata": {},
   "source": [
    "##### Q.2 write a program to accept marks of 6 students and display them in a sorted manner."
   ]
  },
  {
   "cell_type": "code",
   "execution_count": 51,
   "id": "0cc99bb3-1e95-4073-a343-2b3be2fd2669",
   "metadata": {},
   "outputs": [
    {
     "name": "stdin",
     "output_type": "stream",
     "text": [
      "enter the marks of student 1 78\n"
     ]
    }
   ],
   "source": [
    "student1=int(input(\"enter the marks of student 1\"))"
   ]
  },
  {
   "cell_type": "code",
   "execution_count": 52,
   "id": "7280765c-c7b1-41bf-ac12-d985747ce0e9",
   "metadata": {},
   "outputs": [
    {
     "name": "stdin",
     "output_type": "stream",
     "text": [
      "enter the marks of student 2 56\n"
     ]
    }
   ],
   "source": [
    "student2=int(input(\"enter the marks of student 2\"))\n"
   ]
  },
  {
   "cell_type": "code",
   "execution_count": 49,
   "id": "cfe77425-8148-4297-a0bf-7c8d44da3a54",
   "metadata": {},
   "outputs": [
    {
     "name": "stdin",
     "output_type": "stream",
     "text": [
      "enter the marks of student 3 99\n"
     ]
    }
   ],
   "source": [
    "student3=int(input(\"enter the marks of student 3\"))"
   ]
  },
  {
   "cell_type": "code",
   "execution_count": 53,
   "id": "329100e1-7b8b-45af-bf48-b03bc1ac40e7",
   "metadata": {},
   "outputs": [
    {
     "name": "stdin",
     "output_type": "stream",
     "text": [
      "enter the marks of student 4 76\n"
     ]
    }
   ],
   "source": [
    "student4= int(input(\"enter the marks of student 4\"))"
   ]
  },
  {
   "cell_type": "code",
   "execution_count": 54,
   "id": "0804e07a-feac-497e-846e-821328ef8b34",
   "metadata": {},
   "outputs": [
    {
     "name": "stdin",
     "output_type": "stream",
     "text": [
      "enter the marks of student 5 66\n"
     ]
    }
   ],
   "source": [
    "student5=int(input(\"enter the marks of student 5\"))"
   ]
  },
  {
   "cell_type": "code",
   "execution_count": 55,
   "id": "707f1a7c-012e-4e70-9286-036cb6d16020",
   "metadata": {},
   "outputs": [
    {
     "name": "stdin",
     "output_type": "stream",
     "text": [
      "enter the marks of student 6 33\n"
     ]
    }
   ],
   "source": [
    "student6=int(input(\"enter the marks of student 6\"))\n"
   ]
  },
  {
   "cell_type": "code",
   "execution_count": 56,
   "id": "88ab49a7-3b05-4c92-bf64-9b6cb29e6a3f",
   "metadata": {},
   "outputs": [
    {
     "name": "stdout",
     "output_type": "stream",
     "text": [
      "[33, 56, 66, 76, 78, 99]\n"
     ]
    }
   ],
   "source": [
    "sortedmarkslist=[student1,student2,student3,student4,student5,student6]\n",
    "sortedmarkslist.sort()\n",
    "print(sortedmarkslist)"
   ]
  },
  {
   "cell_type": "code",
   "execution_count": 59,
   "id": "6ce85448-4e33-4a94-8e30-c5c46a85eb66",
   "metadata": {},
   "outputs": [
    {
     "name": "stdout",
     "output_type": "stream",
     "text": [
      "<class 'list'>\n"
     ]
    }
   ],
   "source": [
    "print(type(sortedmarkslist))"
   ]
  },
  {
   "cell_type": "code",
   "execution_count": 60,
   "id": "f980ae23-086e-4a44-9f8e-c41092a42bc2",
   "metadata": {},
   "outputs": [
    {
     "name": "stdout",
     "output_type": "stream",
     "text": [
      "<class 'int'>\n"
     ]
    }
   ],
   "source": [
    "print(type(student5))"
   ]
  },
  {
   "cell_type": "markdown",
   "id": "87143427-680d-4656-8757-1e46d233b256",
   "metadata": {},
   "source": [
    "##### Q.3 check that the tuples cant be changed in python"
   ]
  },
  {
   "cell_type": "code",
   "execution_count": 1,
   "id": "f1a9a7db-d9a3-4aa5-b9b6-85f4d40c476f",
   "metadata": {},
   "outputs": [
    {
     "ename": "TypeError",
     "evalue": "'tuple' object does not support item assignment",
     "output_type": "error",
     "traceback": [
      "\u001b[0;31m---------------------------------------------------------------------------\u001b[0m",
      "\u001b[0;31mTypeError\u001b[0m                                 Traceback (most recent call last)",
      "Cell \u001b[0;32mIn[1], line 2\u001b[0m\n\u001b[1;32m      1\u001b[0m t\u001b[38;5;241m=\u001b[39m(\u001b[38;5;241m3\u001b[39m,\u001b[38;5;241m9\u001b[39m,\u001b[38;5;241m45\u001b[39m ,\u001b[38;5;241m23\u001b[39m,\u001b[38;5;241m36\u001b[39m,\u001b[38;5;241m20\u001b[39m)\n\u001b[0;32m----> 2\u001b[0m \u001b[43mt\u001b[49m\u001b[43m[\u001b[49m\u001b[38;5;241;43m1\u001b[39;49m\u001b[43m]\u001b[49m\u001b[38;5;241m=\u001b[39m\u001b[38;5;241m77\u001b[39m\n\u001b[1;32m      3\u001b[0m \u001b[38;5;28mprint\u001b[39m(t)\n",
      "\u001b[0;31mTypeError\u001b[0m: 'tuple' object does not support item assignment"
     ]
    }
   ],
   "source": [
    "t=(3,9,45 ,23,36,20)\n",
    "t[1]=77\n",
    "print(t)"
   ]
  },
  {
   "cell_type": "markdown",
   "id": "f872b272-cbf2-42ba-9406-bb6e18fff684",
   "metadata": {},
   "source": [
    "###### hence prooved that tuples cant be changed."
   ]
  },
  {
   "cell_type": "markdown",
   "id": "b763cd0e-072b-45c8-bd86-644da7d9533f",
   "metadata": {},
   "source": [
    "### in python every datatype is a object"
   ]
  },
  {
   "cell_type": "markdown",
   "id": "8178b56f-5f59-4471-a9e2-935145bcdeab",
   "metadata": {},
   "source": [
    " ### Q.4 write a program to sum a list with 4 number."
   ]
  },
  {
   "cell_type": "code",
   "execution_count": 6,
   "id": "715f9f67-85ce-4833-bd79-1c64b094590d",
   "metadata": {},
   "outputs": [
    {
     "name": "stdout",
     "output_type": "stream",
     "text": [
      "17\n"
     ]
    }
   ],
   "source": [
    "a=[1,4,5,7] \n",
    "\n",
    "print(a[0]+a[1]+a[2]+a[3])\n"
   ]
  },
  {
   "cell_type": "code",
   "execution_count": 7,
   "id": "3ced57da-8e2e-4e91-804f-906680d84087",
   "metadata": {},
   "outputs": [
    {
     "name": "stdout",
     "output_type": "stream",
     "text": [
      "17\n"
     ]
    }
   ],
   "source": [
    "print(sum(a))"
   ]
  },
  {
   "cell_type": "markdown",
   "id": "67659d6e-e9a8-4a8a-b7f3-806e1cd90250",
   "metadata": {},
   "source": [
    "#### Q.5 write a program to count the number of zeros in the following tuple"
   ]
  },
  {
   "cell_type": "code",
   "execution_count": 10,
   "id": "73211390-4bc8-4039-af3d-4eb5b607ad89",
   "metadata": {},
   "outputs": [
    {
     "name": "stdout",
     "output_type": "stream",
     "text": [
      "4\n"
     ]
    }
   ],
   "source": [
    "a=(4,0,55,0,23,0,0,2)\n",
    "print(a.count(0))"
   ]
  },
  {
   "cell_type": "code",
   "execution_count": null,
   "id": "035a2a9e-5b81-4df9-8883-93e59a94a0f5",
   "metadata": {},
   "outputs": [],
   "source": []
  }
 ],
 "metadata": {
  "kernelspec": {
   "display_name": "Python 3 (ipykernel)",
   "language": "python",
   "name": "python3"
  },
  "language_info": {
   "codemirror_mode": {
    "name": "ipython",
    "version": 3
   },
   "file_extension": ".py",
   "mimetype": "text/x-python",
   "name": "python",
   "nbconvert_exporter": "python",
   "pygments_lexer": "ipython3",
   "version": "3.10.8"
  }
 },
 "nbformat": 4,
 "nbformat_minor": 5
}
