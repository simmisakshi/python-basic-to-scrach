{
 "cells": [
  {
   "cell_type": "markdown",
   "id": "2182b3ad-9dfa-4b4f-909b-7816230266e7",
   "metadata": {},
   "source": [
    "# chapter 6"
   ]
  },
  {
   "cell_type": "markdown",
   "id": "f0b00b59-5adb-498e-bb87-ba531b8ca8bc",
   "metadata": {},
   "source": [
    "## conditional expressions"
   ]
  },
  {
   "cell_type": "markdown",
   "id": "1d8c7db8-3c71-4679-b0f6-2812a198db37",
   "metadata": {},
   "source": [
    "### if elif else ladder in python"
   ]
  },
  {
   "cell_type": "code",
   "execution_count": 1,
   "id": "ff04a339-9c5e-45da-bfda-0dac8dae6df3",
   "metadata": {},
   "outputs": [
    {
     "name": "stdout",
     "output_type": "stream",
     "text": [
      "the value of a is greater than 3\n"
     ]
    }
   ],
   "source": [
    "a=45\n",
    "if(a>3):\n",
    "    print(\"the value of a is greater than 3\")"
   ]
  },
  {
   "cell_type": "code",
   "execution_count": 9,
   "id": "a9f74605-fb3e-40d6-a1b9-870554183166",
   "metadata": {},
   "outputs": [
    {
     "name": "stdout",
     "output_type": "stream",
     "text": [
      "the value of a is greater than 3\n"
     ]
    }
   ],
   "source": [
    "a=45\n",
    "if(a>3):\n",
    "    print(\"the value of a is greater than 3\")\n",
    "    \n",
    "elif(a>7):\n",
    "    print(\"the value of a is greater than 7\")\n",
    "else:\n",
    "    print(\"the value is not greater than 3 or 7\") #### only first conditon true hoga.\n",
    "    "
   ]
  },
  {
   "cell_type": "markdown",
   "id": "c7a56cb6-3924-49b3-b509-3654003d6f56",
   "metadata": {},
   "source": [
    "### multipe if statements."
   ]
  },
  {
   "cell_type": "code",
   "execution_count": 11,
   "id": "6ccf179e-b81e-459a-a55b-3a6180d94207",
   "metadata": {},
   "outputs": [
    {
     "name": "stdout",
     "output_type": "stream",
     "text": [
      "the number is greater than 9\n",
      "the number is greater than 11\n",
      "this is wrong\n"
     ]
    }
   ],
   "source": [
    "a=17\n",
    "if (a>9):\n",
    "    print(\"the number is greater than 9\")\n",
    "if (a<7):\n",
    "    print(\"the number is less than 7\")\n",
    "if (a>19):\n",
    "    print(\"the number is greater than 19\")\n",
    "if (a>11):\n",
    "    print(\"the number is greater than 11\")\n",
    "if (a<9):\n",
    "    print(\"the number is less than 9\")\n",
    "if (a>29):\n",
    "    print(\"the number is greater than 29\")\n",
    "else:\n",
    "    print(\"this is wrong\")"
   ]
  },
  {
   "cell_type": "code",
   "execution_count": 12,
   "id": "f6996026-6547-46af-b563-930355049cee",
   "metadata": {},
   "outputs": [
    {
     "name": "stdout",
     "output_type": "stream",
     "text": [
      "greater\n"
     ]
    }
   ],
   "source": [
    "a=22\n",
    "if(a>9):\n",
    "    print(\"greater\")\n",
    "else:\n",
    "    print(\"lesser\")"
   ]
  },
  {
   "cell_type": "code",
   "execution_count": 13,
   "id": "5baeeaf7-0157-4486-bf92-087e01f5b43a",
   "metadata": {},
   "outputs": [
    {
     "name": "stdin",
     "output_type": "stream",
     "text": [
      "enter your age:\n",
      " 11\n"
     ]
    },
    {
     "name": "stdout",
     "output_type": "stream",
     "text": [
      "not eligible\n"
     ]
    }
   ],
   "source": [
    "a=int(input(\"enter your age:\\n\"))\n",
    "if(a>18):\n",
    "    print(\"eligible\")\n",
    "else:\n",
    "    print(\"not eligible\")\n",
    "      "
   ]
  },
  {
   "cell_type": "markdown",
   "id": "d8c73310-3cdf-4132-ae62-219bba694b87",
   "metadata": {},
   "source": [
    "## relational operators"
   ]
  },
  {
   "cell_type": "markdown",
   "id": "596c3b29-12c8-4c6a-ad83-cf3693408bf2",
   "metadata": {},
   "source": [
    "##### relational operators are used to evaluate conditions inside the if statements.\n",
    "##### == equals\n",
    "##### >= greater than equal to\n",
    "##### <= lass than equal to"
   ]
  },
  {
   "cell_type": "markdown",
   "id": "387aa7c5-0bf7-4c52-b960-51b81b65641c",
   "metadata": {},
   "source": [
    "## logical operators :- it operates on conditional statement.\n",
    "### and, or,not"
   ]
  },
  {
   "cell_type": "code",
   "execution_count": 18,
   "id": "7e20f9ba-92e0-4934-8eda-a75ce2a21e1a",
   "metadata": {},
   "outputs": [
    {
     "name": "stdout",
     "output_type": "stream",
     "text": [
      "you can work with us\n"
     ]
    }
   ],
   "source": [
    "age=56\n",
    "if (age>33 and age<66):\n",
    "    print(\"you can work with us\")\n",
    "else:\n",
    "    print(\"you cannot work with us\")"
   ]
  },
  {
   "cell_type": "code",
   "execution_count": 25,
   "id": "baa4fc54-b986-42d7-bb3b-cca48e936d8e",
   "metadata": {},
   "outputs": [
    {
     "name": "stdin",
     "output_type": "stream",
     "text": [
      "enter your age:\n",
      " 56\n"
     ]
    },
    {
     "name": "stdout",
     "output_type": "stream",
     "text": [
      "you can work with us\n"
     ]
    }
   ],
   "source": [
    "age=int(input(\"enter your age:\\n\"))\n",
    "if (age>33 and age<66):\n",
    "    print(\"you can work with us\")\n",
    "else:\n",
    "    print(\"you cannot work with us\")"
   ]
  },
  {
   "cell_type": "code",
   "execution_count": 27,
   "id": "8dcc740b-d7c3-4dd4-843b-3ade20f4cb34",
   "metadata": {},
   "outputs": [
    {
     "name": "stdin",
     "output_type": "stream",
     "text": [
      "enter your age:\n",
      " 11\n"
     ]
    },
    {
     "name": "stdout",
     "output_type": "stream",
     "text": [
      "you can work with us\n"
     ]
    }
   ],
   "source": [
    "age=int(input(\"enter your age:\\n\"))\n",
    "if (age>33 or age<66):\n",
    "    print(\"you can work with us\")\n",
    "else:\n",
    "    print(\"you cannot work with us\")"
   ]
  },
  {
   "cell_type": "markdown",
   "id": "67391151-5e7b-4a01-9bcd-ef348727f1a8",
   "metadata": {},
   "source": [
    "## in and is"
   ]
  },
  {
   "cell_type": "code",
   "execution_count": 29,
   "id": "bd71c70d-d89a-4a9f-b9a8-c921b72f8432",
   "metadata": {},
   "outputs": [
    {
     "name": "stdout",
     "output_type": "stream",
     "text": [
      "yes\n"
     ]
    }
   ],
   "source": [
    "a=None\n",
    "if (a is None):\n",
    "    print(\"yes\")\n",
    "else:\n",
    "    print(\"no\")"
   ]
  },
  {
   "cell_type": "code",
   "execution_count": 30,
   "id": "9a55b0df-03aa-44a0-b59b-eb8067f051b6",
   "metadata": {},
   "outputs": [
    {
     "name": "stdout",
     "output_type": "stream",
     "text": [
      "True\n"
     ]
    }
   ],
   "source": [
    "a=[45,56,46]\n",
    "print(45 in a)"
   ]
  },
  {
   "cell_type": "code",
   "execution_count": 31,
   "id": "56419bce-43db-4c8a-bef4-60509ce23ad2",
   "metadata": {},
   "outputs": [
    {
     "name": "stdout",
     "output_type": "stream",
     "text": [
      "False\n"
     ]
    }
   ],
   "source": [
    "print(4546 in a)"
   ]
  },
  {
   "cell_type": "markdown",
   "id": "db1b4b56-a142-4246-bf64-8d5ebd42d7aa",
   "metadata": {},
   "source": [
    "# important notes.\n",
    "##### there can be any number of elif statement.\n",
    "##### last else is executed only if all the conditions inside elifs fail."
   ]
  },
  {
   "cell_type": "code",
   "execution_count": 32,
   "id": "b907be14-8ba8-4d6c-9ee5-991967574e3d",
   "metadata": {},
   "outputs": [
    {
     "name": "stdout",
     "output_type": "stream",
     "text": [
      "i am optional\n"
     ]
    }
   ],
   "source": [
    "a=6\n",
    "if(a==7):\n",
    "    print(\"yes\")\n",
    "elif(a>56):\n",
    "    print(\"no or yes\")\n",
    "else:\n",
    "    print(\"i am optional\")"
   ]
  },
  {
   "cell_type": "markdown",
   "id": "ada17d18-358a-4608-b3e6-99409c001c01",
   "metadata": {},
   "source": [
    "# practice set of chapter 6"
   ]
  },
  {
   "cell_type": "markdown",
   "id": "d2f68634-ca27-4394-a793-f81e6743e07b",
   "metadata": {},
   "source": [
    "#### Q.1 write a program to find greatest of four numbers entered by the user."
   ]
  },
  {
   "cell_type": "code",
   "execution_count": 40,
   "id": "9c3cbfdd-d742-41b0-8ca9-4551fbfac53d",
   "metadata": {},
   "outputs": [
    {
     "name": "stdin",
     "output_type": "stream",
     "text": [
      "enter your number 1:\n",
      "  45\n",
      "enter your number 2:\n",
      "  78\n",
      "enter your number 3:\n",
      "  99\n",
      "enter your number 4:\n",
      "  66\n"
     ]
    },
    {
     "name": "stdout",
     "output_type": "stream",
     "text": [
      "99is greatest\n"
     ]
    }
   ],
   "source": [
    "a=int(input(\"enter your number 1:\\n \"))\n",
    "b=int(input(\"enter your number 2:\\n \"))\n",
    "c=int(input(\"enter your number 3:\\n \"))\n",
    "d=int(input(\"enter your number 4:\\n \"))\n",
    "if(a>d):\n",
    "    f1=a\n",
    "else:\n",
    "    f1=d\n",
    "if(b>c):\n",
    "    f2=b\n",
    "else:\n",
    "    f2=c\n",
    "if(f1>f2):\n",
    "    print(str(f1) + \" is greatest\")\n",
    "else:\n",
    "    print(str(f2) + \"is greatest\")"
   ]
  },
  {
   "cell_type": "markdown",
   "id": "9dd3cd5a-f7a6-4c3f-be7f-8f215ed41aed",
   "metadata": {},
   "source": [
    "#### Q.2 write a program to find out whether a student is pass or fail ,if it requires total 40% and at least 33% in each subject to pass. assume 3 subject and take marks as an input from the user."
   ]
  },
  {
   "cell_type": "code",
   "execution_count": 44,
   "id": "0ca23fd8-24b5-46c7-8b8d-2779edf5546e",
   "metadata": {},
   "outputs": [
    {
     "name": "stdin",
     "output_type": "stream",
     "text": [
      "enter marks of maths: \n",
      " 23\n",
      "enter marks of science: \n",
      " 34\n",
      "enter marks of english: \n",
      " 56\n"
     ]
    },
    {
     "name": "stdout",
     "output_type": "stream",
     "text": [
      "you are fail\n"
     ]
    }
   ],
   "source": [
    "M1=int(input(\"enter marks of maths: \\n\"))\n",
    "M2=int(input(\"enter marks of science: \\n\"))\n",
    "M3=int(input(\"enter marks of english: \\n\"))\n",
    "\n",
    "if(M1<33 or M2<33 or M3<33):\n",
    "    print(\"you are fail\")\n",
    "elif((M1+M2+M3)/3 <40):\n",
    "    print(\"you are fail because your total marks is less than 40\")\n",
    "else:\n",
    "    print(\"congratulation you are pass\")\n",
    "    "
   ]
  },
  {
   "cell_type": "code",
   "execution_count": 46,
   "id": "05257f3f-168d-4779-8fb6-89e6809338d7",
   "metadata": {},
   "outputs": [
    {
     "name": "stdin",
     "output_type": "stream",
     "text": [
      "enter marks of maths: \n",
      " 34\n",
      "enter marks of science: \n",
      " 35\n",
      "enter marks of english: \n",
      " 36\n"
     ]
    },
    {
     "name": "stdout",
     "output_type": "stream",
     "text": [
      "you are fail because your total marks is less than 40\n"
     ]
    }
   ],
   "source": [
    "M1=int(input(\"enter marks of maths: \\n\"))\n",
    "M2=int(input(\"enter marks of science: \\n\"))\n",
    "M3=int(input(\"enter marks of english: \\n\"))\n",
    "\n",
    "if(M1<33 or M2<33 or M3<33):\n",
    "    print(\"you are fail\")\n",
    "elif((M1+M2+M3)/3 <40):\n",
    "    print(\"you are fail because your total marks is less than 40\")\n",
    "else:\n",
    "    print(\"congratulation you are pass\")\n",
    "    "
   ]
  },
  {
   "cell_type": "code",
   "execution_count": 47,
   "id": "8bc3222d-260c-4a3d-8695-7926363a6d8a",
   "metadata": {},
   "outputs": [
    {
     "name": "stdin",
     "output_type": "stream",
     "text": [
      "enter marks of maths: \n",
      " 56\n",
      "enter marks of science: \n",
      " 56\n",
      "enter marks of english: \n",
      " 78\n"
     ]
    },
    {
     "name": "stdout",
     "output_type": "stream",
     "text": [
      "congratulation you are pass\n"
     ]
    }
   ],
   "source": [
    "M1=int(input(\"enter marks of maths: \\n\"))\n",
    "M2=int(input(\"enter marks of science: \\n\"))\n",
    "M3=int(input(\"enter marks of english: \\n\"))\n",
    "\n",
    "if(M1<33 or M2<33 or M3<33):\n",
    "    print(\"you are fail\")\n",
    "elif((M1+M2+M3)/3 <40):\n",
    "    print(\"you are fail because your total marks is less than 40\")\n",
    "else:\n",
    "    print(\"congratulation you are pass\")\n",
    "    "
   ]
  },
  {
   "cell_type": "markdown",
   "id": "f19557b7-5c5a-4ef6-a65d-a00559d7ddda",
   "metadata": {},
   "source": [
    "#### Q.3 A spam comment is defined as a text containing following keywords: \" make a lot of money\", \"buy now\",\" subscribe this\", \"click this\", \"write a program to detect these spams."
   ]
  },
  {
   "cell_type": "code",
   "execution_count": 3,
   "id": "563f7961-9428-424a-87ba-f1026464c482",
   "metadata": {},
   "outputs": [
    {
     "name": "stdin",
     "output_type": "stream",
     "text": [
      "enter the text:\n",
      " buy now\n"
     ]
    },
    {
     "name": "stdout",
     "output_type": "stream",
     "text": [
      "this text is spam\n"
     ]
    }
   ],
   "source": [
    "text=input(\"enter the text:\\n\")\n",
    "if(\"make a lot of money\" in text):\n",
    "    spam=True\n",
    "elif(\"buy now\" in text):\n",
    "    spam= True \n",
    "elif(\" subscribe this\" in text):\n",
    "    spam = True\n",
    "elif(\"click this\" in text):\n",
    "    spam =True\n",
    "else:\n",
    "    spam=False\n",
    "if (spam):\n",
    "    print(\"this text is spam\")\n",
    "else:\n",
    "    print(\"this is not spam\")\n"
   ]
  },
  {
   "cell_type": "code",
   "execution_count": 4,
   "id": "9d0986a5-6fa2-4f40-9f09-8140af67f538",
   "metadata": {},
   "outputs": [
    {
     "name": "stdin",
     "output_type": "stream",
     "text": [
      "enter the text:\n",
      " if you want lot of money click this\n"
     ]
    },
    {
     "name": "stdout",
     "output_type": "stream",
     "text": [
      "this text is spam\n"
     ]
    }
   ],
   "source": [
    "text=input(\"enter the text:\\n\")\n",
    "if(\"make a lot of money\" in text):\n",
    "    spam=True\n",
    "elif(\"buy now\" in text):\n",
    "    spam= True \n",
    "elif(\" subscribe this\" in text):\n",
    "    spam = True\n",
    "elif(\"click this\" in text):\n",
    "    spam =True\n",
    "else:\n",
    "    spam=False\n",
    "if (spam):\n",
    "    print(\"this text is spam\")\n",
    "else:\n",
    "    print(\"this is not spam\")\n"
   ]
  },
  {
   "cell_type": "code",
   "execution_count": 5,
   "id": "4c7acb2c-d9ed-4294-8a47-4674fbd4110f",
   "metadata": {},
   "outputs": [
    {
     "name": "stdin",
     "output_type": "stream",
     "text": [
      "enter the text:\n",
      " you should not click any unwanted things.\n"
     ]
    },
    {
     "name": "stdout",
     "output_type": "stream",
     "text": [
      "this is not spam\n"
     ]
    }
   ],
   "source": [
    "text=input(\"enter the text:\\n\")\n",
    "if(\"make a lot of money\" in text):\n",
    "    spam=True\n",
    "elif(\"buy now\" in text):\n",
    "    spam= True \n",
    "elif(\" subscribe this\" in text):\n",
    "    spam = True\n",
    "elif(\"click this\" in text):\n",
    "    spam =True\n",
    "else:\n",
    "    spam=False\n",
    "if (spam):\n",
    "    print(\"this text is spam\")\n",
    "else:\n",
    "    print(\"this is not spam\")\n"
   ]
  },
  {
   "cell_type": "markdown",
   "id": "b7c14a0b-a7f1-4ce5-bc39-af403b76ca7a",
   "metadata": {},
   "source": [
    "#### Q.4 write a program to find whether a given username contains less than 10 characters or not."
   ]
  },
  {
   "cell_type": "code",
   "execution_count": 9,
   "id": "1fb9291e-76be-4ba8-a2e5-56801a40eaa1",
   "metadata": {},
   "outputs": [
    {
     "name": "stdin",
     "output_type": "stream",
     "text": [
      "enter your name:\n",
      " sakshi\n"
     ]
    },
    {
     "ename": "TypeError",
     "evalue": "count() takes at least 1 argument (0 given)",
     "output_type": "error",
     "traceback": [
      "\u001b[0;31m---------------------------------------------------------------------------\u001b[0m",
      "\u001b[0;31mTypeError\u001b[0m                                 Traceback (most recent call last)",
      "Cell \u001b[0;32mIn[9], line 2\u001b[0m\n\u001b[1;32m      1\u001b[0m username\u001b[38;5;241m=\u001b[39m\u001b[38;5;28minput\u001b[39m(\u001b[38;5;124m\"\u001b[39m\u001b[38;5;124menter your name:\u001b[39m\u001b[38;5;130;01m\\n\u001b[39;00m\u001b[38;5;124m\"\u001b[39m)\n\u001b[0;32m----> 2\u001b[0m \u001b[38;5;28mprint\u001b[39m(\u001b[43musername\u001b[49m\u001b[38;5;241;43m.\u001b[39;49m\u001b[43mcount\u001b[49m\u001b[43m(\u001b[49m\u001b[43m)\u001b[49m)\n",
      "\u001b[0;31mTypeError\u001b[0m: count() takes at least 1 argument (0 given)"
     ]
    }
   ],
   "source": [
    "username=input(\"enter your name:\\n\")\n",
    "print(username.count())"
   ]
  },
  {
   "cell_type": "code",
   "execution_count": null,
   "id": "807c69d4-3acb-43ee-a0dd-d1ae9d087e4b",
   "metadata": {},
   "outputs": [],
   "source": []
  },
  {
   "cell_type": "markdown",
   "id": "1634089a-c545-4804-b6f5-d4b64de6359f",
   "metadata": {},
   "source": [
    "#### Q.5 write a program which finds out whether a given name is  present in a list or not."
   ]
  },
  {
   "cell_type": "code",
   "execution_count": 1,
   "id": "c0a234c2-1d18-48b9-8d2d-ef85211be2c0",
   "metadata": {},
   "outputs": [
    {
     "name": "stdin",
     "output_type": "stream",
     "text": [
      "enter your name to check:\n",
      " rohit\n"
     ]
    },
    {
     "name": "stdout",
     "output_type": "stream",
     "text": [
      "not present\n"
     ]
    }
   ],
   "source": [
    "names=[\"sakshi\",\"shivani\",\"priya\",\"nayan\"\",rohan\"]\n",
    "name=input(\"enter your name to check:\\n\")\n",
    "if (name in names):\n",
    "\n",
    "    print(\"present\")\n",
    "else:\n",
    "    print(\"not present\")\n"
   ]
  },
  {
   "cell_type": "code",
   "execution_count": 2,
   "id": "1607069a-00b3-4980-a67c-cf3c68ca0497",
   "metadata": {},
   "outputs": [
    {
     "name": "stdin",
     "output_type": "stream",
     "text": [
      "enter your name to check:\n",
      " shivani\n"
     ]
    },
    {
     "name": "stdout",
     "output_type": "stream",
     "text": [
      "present\n"
     ]
    }
   ],
   "source": [
    "names=[\"sakshi\",\"shivani\",\"priya\",\"nayan\"\",rohan\"]\n",
    "name=input(\"enter your name to check:\\n\")\n",
    "if (name in names):\n",
    "\n",
    "    print(\"present\")\n",
    "else:\n",
    "    print(\"not present\")\n"
   ]
  },
  {
   "cell_type": "markdown",
   "id": "91f466e7-53e7-475a-8bf5-d00e8d83b00a",
   "metadata": {},
   "source": [
    "##### Q.6 write a program to calculate the grade of a student from his marks from the following schema:"
   ]
  },
  {
   "cell_type": "markdown",
   "id": "a4aa3565-cfc5-4173-be10-355bb18c8844",
   "metadata": {},
   "source": [
    "### 90-100:-ex\n",
    "### 80-90:-A\n",
    "### 70-80:-B\n",
    "### 60-70:-C\n",
    "### 50-60:-D\n",
    "### <50  :-f"
   ]
  },
  {
   "cell_type": "code",
   "execution_count": 4,
   "id": "1acd5004-8907-4695-bc38-30b2380aac12",
   "metadata": {},
   "outputs": [
    {
     "name": "stdin",
     "output_type": "stream",
     "text": [
      "enter your marks :\n",
      " 45\n"
     ]
    },
    {
     "name": "stdout",
     "output_type": "stream",
     "text": [
      "your grade is :- f\n"
     ]
    }
   ],
   "source": [
    "marks=int(input(\"enter your marks :\\n\"))\n",
    "if marks>=90:\n",
    "    grade=\"ex\"\n",
    "elif marks >=80:\n",
    "    grade=\"A\"\n",
    "elif marks >=70:\n",
    "    grade=\"B\"\n",
    "elif marks >=60:\n",
    "    grade=\"c\"\n",
    "elif marks>=50:\n",
    "    grade=\"d\"\n",
    "else:\n",
    "    grade=\"f\"\n",
    "print(\"your grade is :- \" +grade)\n",
    "    \n",
    "\n",
    "       "
   ]
  },
  {
   "cell_type": "code",
   "execution_count": 5,
   "id": "45456436-0e6b-4ab7-88af-a864058b58a8",
   "metadata": {},
   "outputs": [
    {
     "name": "stdin",
     "output_type": "stream",
     "text": [
      "enter your marks :\n",
      " 98\n"
     ]
    },
    {
     "name": "stdout",
     "output_type": "stream",
     "text": [
      "your grade is :- ex\n"
     ]
    }
   ],
   "source": [
    "marks=int(input(\"enter your marks :\\n\"))\n",
    "if marks>=90:\n",
    "    grade=\"ex\"\n",
    "elif marks >=80:\n",
    "    grade=\"A\"\n",
    "elif marks >=70:\n",
    "    grade=\"B\"\n",
    "elif marks >=60:\n",
    "    grade=\"c\"\n",
    "elif marks>=50:\n",
    "    grade=\"d\"\n",
    "else:\n",
    "    grade=\"f\"\n",
    "print(\"your grade is :- \" +grade)\n",
    "    "
   ]
  },
  {
   "cell_type": "code",
   "execution_count": 6,
   "id": "42691cf2-38b9-42f8-a0f0-7ba497ebc7b5",
   "metadata": {},
   "outputs": [
    {
     "name": "stdin",
     "output_type": "stream",
     "text": [
      "enter your marks :\n",
      " 55\n"
     ]
    },
    {
     "name": "stdout",
     "output_type": "stream",
     "text": [
      "your grade is :- d\n"
     ]
    }
   ],
   "source": [
    "marks=int(input(\"enter your marks :\\n\"))\n",
    "if marks>=90:\n",
    "    grade=\"ex\"\n",
    "elif marks >=80:\n",
    "    grade=\"A\"\n",
    "elif marks >=70:\n",
    "    grade=\"B\"\n",
    "elif marks >=60:\n",
    "    grade=\"c\"\n",
    "elif marks>=50:\n",
    "    grade=\"d\"\n",
    "else:\n",
    "    grade=\"f\"\n",
    "print(\"your grade is :- \" +grade)"
   ]
  },
  {
   "cell_type": "markdown",
   "id": "52fce82e-1ba6-4ecc-a5a9-31db94cce1ad",
   "metadata": {},
   "source": [
    "#### @.7 write a program to find out whether a given post is talking about \"harry \" or not."
   ]
  },
  {
   "cell_type": "code",
   "execution_count": 7,
   "id": "e940d0bf-e8a9-459a-9c06-20f58e1b5d55",
   "metadata": {},
   "outputs": [
    {
     "name": "stdin",
     "output_type": "stream",
     "text": [
      "enter your post :\n",
      " this is all about a good coder and harry is a very good coder\n"
     ]
    },
    {
     "name": "stdout",
     "output_type": "stream",
     "text": [
      "it contain harry\n"
     ]
    }
   ],
   "source": [
    "post=input(\"enter your post :\\n\")\n",
    "if(\"harry\" in post):\n",
    "    print(\"it contain harry\")\n",
    "else:\n",
    "    print(\"it not contain harry\")"
   ]
  },
  {
   "cell_type": "code",
   "execution_count": 8,
   "id": "a56f2121-a58e-49d0-bcc4-f32b416566b2",
   "metadata": {},
   "outputs": [
    {
     "name": "stdin",
     "output_type": "stream",
     "text": [
      "enter your post :\n",
      " this is all about a dancer and sakshi is a very good daner\n"
     ]
    },
    {
     "name": "stdout",
     "output_type": "stream",
     "text": [
      "it not contain harry\n"
     ]
    }
   ],
   "source": [
    "post=input(\"enter your post :\\n\")\n",
    "if(\"harry\" in post):\n",
    "    print(\"it contain harry\")\n",
    "else:\n",
    "    print(\"it not contain harry\")"
   ]
  },
  {
   "cell_type": "code",
   "execution_count": null,
   "id": "62897d34-18bd-467a-beed-8b30f94b694f",
   "metadata": {},
   "outputs": [],
   "source": []
  }
 ],
 "metadata": {
  "kernelspec": {
   "display_name": "Python 3 (ipykernel)",
   "language": "python",
   "name": "python3"
  },
  "language_info": {
   "codemirror_mode": {
    "name": "ipython",
    "version": 3
   },
   "file_extension": ".py",
   "mimetype": "text/x-python",
   "name": "python",
   "nbconvert_exporter": "python",
   "pygments_lexer": "ipython3",
   "version": "3.10.8"
  }
 },
 "nbformat": 4,
 "nbformat_minor": 5
}
